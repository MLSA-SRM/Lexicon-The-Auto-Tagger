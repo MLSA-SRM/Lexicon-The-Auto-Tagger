{
 "nbformat": 4,
 "nbformat_minor": 2,
 "metadata": {
  "language_info": {
   "name": "python",
   "codemirror_mode": {
    "name": "ipython",
    "version": 3
   },
   "version": "3.7.1-final"
  },
  "orig_nbformat": 2,
  "file_extension": ".py",
  "mimetype": "text/x-python",
  "name": "python",
  "npconvert_exporter": "python",
  "pygments_lexer": "ipython3",
  "version": 3,
  "kernelspec": {
   "name": "python3",
   "display_name": "Python 3"
  }
 },
 "cells": [
  {
   "cell_type": "code",
   "execution_count": 51,
   "metadata": {},
   "outputs": [],
   "source": [
    "import numpy\n",
    "import pandas as pd \n",
    "import nltk\n",
    "import string\n",
    "import re\n",
    "import os\n",
    "import joblib\n",
    "from nltk.corpus import stopwords\n",
    "from nltk.stem import PorterStemmer\n",
    "from sklearn.preprocessing import MultiLabelBinarizer\n",
    "from sklearn.feature_extraction.text import TfidfVectorizer\n",
    "from sklearn.model_selection import train_test_split\n",
    "from sklearn.linear_model import LogisticRegression\n",
    "from sklearn.metrics import f1_score\n",
    "from sklearn.metrics import accuracy_score"
   ]
  },
  {
   "cell_type": "code",
   "execution_count": 52,
   "metadata": {},
   "outputs": [
    {
     "name": "stdout",
     "output_type": "stream",
     "text": "(18769, 6)\n"
    },
    {
     "data": {
      "text/html": "<div>\n<style scoped>\n    .dataframe tbody tr th:only-of-type {\n        vertical-align: middle;\n    }\n\n    .dataframe tbody tr th {\n        vertical-align: top;\n    }\n\n    .dataframe thead th {\n        text-align: right;\n    }\n</style>\n<table border=\"1\" class=\"dataframe\">\n  <thead>\n    <tr style=\"text-align: right;\">\n      <th></th>\n      <th>Unnamed: 0</th>\n      <th>Name</th>\n      <th>Url</th>\n      <th>Text</th>\n      <th>Tags</th>\n      <th>Claps</th>\n    </tr>\n  </thead>\n  <tbody>\n    <tr>\n      <td>0</td>\n      <td>0</td>\n      <td>None</td>\n      <td>https://medium.com/@elektra.sunn/cheshire-moon...</td>\n      <td>NaN</td>\n      <td>[]</td>\n      <td>[]</td>\n    </tr>\n    <tr>\n      <td>1</td>\n      <td>0</td>\n      <td>None</td>\n      <td>https://medium.com/@nicolascole77/if-youre-doi...</td>\n      <td>NaN</td>\n      <td>[]</td>\n      <td>[]</td>\n    </tr>\n    <tr>\n      <td>2</td>\n      <td>0</td>\n      <td>The Ultimate Travel Workout and Diet Plans by ...</td>\n      <td>https://medium.com/@garrettgee/the-bucket-list...</td>\n      <td>INTRODUCING THE BUCKET LIST FAMILY Hi, we are...</td>\n      <td>['Fitness', 'Travel', 'Diet', 'Exercise', 'Vac...</td>\n      <td>[]</td>\n    </tr>\n    <tr>\n      <td>3</td>\n      <td>0</td>\n      <td>Building a Responsive Image Gallery</td>\n      <td>https://medium.com/backticks-tildes/building-a...</td>\n      <td>In this post you would learn to build a basic...</td>\n      <td>['Design', 'Data', 'Growth', 'CSS', 'Web Design']</td>\n      <td>[]</td>\n    </tr>\n    <tr>\n      <td>4</td>\n      <td>0</td>\n      <td>When they’re already “forever” for you</td>\n      <td>https://medium.com/@krisgage/when-theyre-alrea...</td>\n      <td>Because love that’s “light” can last that lon...</td>\n      <td>['Love', 'Relationships', 'Dating', 'Men', 'Wo...</td>\n      <td>[]</td>\n    </tr>\n  </tbody>\n</table>\n</div>",
      "text/plain": "   Unnamed: 0                                               Name  \\\n0           0                                               None   \n1           0                                               None   \n2           0  The Ultimate Travel Workout and Diet Plans by ...   \n3           0                Building a Responsive Image Gallery   \n4           0             When they’re already “forever” for you   \n\n                                                 Url  \\\n0  https://medium.com/@elektra.sunn/cheshire-moon...   \n1  https://medium.com/@nicolascole77/if-youre-doi...   \n2  https://medium.com/@garrettgee/the-bucket-list...   \n3  https://medium.com/backticks-tildes/building-a...   \n4  https://medium.com/@krisgage/when-theyre-alrea...   \n\n                                                Text  \\\n0                                                NaN   \n1                                                NaN   \n2   INTRODUCING THE BUCKET LIST FAMILY Hi, we are...   \n3   In this post you would learn to build a basic...   \n4   Because love that’s “light” can last that lon...   \n\n                                                Tags Claps  \n0                                                 []    []  \n1                                                 []    []  \n2  ['Fitness', 'Travel', 'Diet', 'Exercise', 'Vac...    []  \n3  ['Design', 'Data', 'Growth', 'CSS', 'Web Design']    []  \n4  ['Love', 'Relationships', 'Dating', 'Men', 'Wo...    []  "
     },
     "execution_count": 52,
     "metadata": {},
     "output_type": "execute_result"
    }
   ],
   "source": [
    "art_df = pd.read_csv('C:/Users/Powerhouse/Documents/GitHub/Project-High/article-database.csv')\n",
    "print(art_df.shape)\n",
    "art_df.head()"
   ]
  },
  {
   "cell_type": "code",
   "execution_count": 53,
   "metadata": {},
   "outputs": [
    {
     "data": {
      "text/html": "<div>\n<style scoped>\n    .dataframe tbody tr th:only-of-type {\n        vertical-align: middle;\n    }\n\n    .dataframe tbody tr th {\n        vertical-align: top;\n    }\n\n    .dataframe thead th {\n        text-align: right;\n    }\n</style>\n<table border=\"1\" class=\"dataframe\">\n  <thead>\n    <tr style=\"text-align: right;\">\n      <th></th>\n      <th>Name</th>\n      <th>Text</th>\n      <th>Tags</th>\n    </tr>\n  </thead>\n  <tbody>\n    <tr>\n      <td>0</td>\n      <td>None</td>\n      <td>NaN</td>\n      <td>[]</td>\n    </tr>\n    <tr>\n      <td>1</td>\n      <td>None</td>\n      <td>NaN</td>\n      <td>[]</td>\n    </tr>\n    <tr>\n      <td>2</td>\n      <td>The Ultimate Travel Workout and Diet Plans by ...</td>\n      <td>INTRODUCING THE BUCKET LIST FAMILY Hi, we are...</td>\n      <td>['Fitness', 'Travel', 'Diet', 'Exercise', 'Vac...</td>\n    </tr>\n    <tr>\n      <td>3</td>\n      <td>Building a Responsive Image Gallery</td>\n      <td>In this post you would learn to build a basic...</td>\n      <td>['Design', 'Data', 'Growth', 'CSS', 'Web Design']</td>\n    </tr>\n    <tr>\n      <td>4</td>\n      <td>When they’re already “forever” for you</td>\n      <td>Because love that’s “light” can last that lon...</td>\n      <td>['Love', 'Relationships', 'Dating', 'Men', 'Wo...</td>\n    </tr>\n  </tbody>\n</table>\n</div>",
      "text/plain": "                                                Name  \\\n0                                               None   \n1                                               None   \n2  The Ultimate Travel Workout and Diet Plans by ...   \n3                Building a Responsive Image Gallery   \n4             When they’re already “forever” for you   \n\n                                                Text  \\\n0                                                NaN   \n1                                                NaN   \n2   INTRODUCING THE BUCKET LIST FAMILY Hi, we are...   \n3   In this post you would learn to build a basic...   \n4   Because love that’s “light” can last that lon...   \n\n                                                Tags  \n0                                                 []  \n1                                                 []  \n2  ['Fitness', 'Travel', 'Diet', 'Exercise', 'Vac...  \n3  ['Design', 'Data', 'Growth', 'CSS', 'Web Design']  \n4  ['Love', 'Relationships', 'Dating', 'Men', 'Wo...  "
     },
     "execution_count": 53,
     "metadata": {},
     "output_type": "execute_result"
    }
   ],
   "source": [
    "model_db = art_df.drop([art_df.columns[0], art_df.columns[2], art_df.columns[5]], axis=1)\n",
    "model_db.head()"
   ]
  },
  {
   "cell_type": "code",
   "execution_count": 54,
   "metadata": {},
   "outputs": [
    {
     "data": {
      "text/plain": "Name       4\nText    1114\nTags       0\ndtype: int64"
     },
     "execution_count": 54,
     "metadata": {},
     "output_type": "execute_result"
    }
   ],
   "source": [
    "model_db.isnull().sum()"
   ]
  },
  {
   "cell_type": "code",
   "execution_count": 55,
   "metadata": {},
   "outputs": [
    {
     "data": {
      "text/html": "<div>\n<style scoped>\n    .dataframe tbody tr th:only-of-type {\n        vertical-align: middle;\n    }\n\n    .dataframe tbody tr th {\n        vertical-align: top;\n    }\n\n    .dataframe thead th {\n        text-align: right;\n    }\n</style>\n<table border=\"1\" class=\"dataframe\">\n  <thead>\n    <tr style=\"text-align: right;\">\n      <th></th>\n      <th>Name</th>\n      <th>Text</th>\n      <th>Tags</th>\n    </tr>\n  </thead>\n  <tbody>\n    <tr>\n      <td>0</td>\n      <td>The Ultimate Travel Workout and Diet Plans by ...</td>\n      <td>INTRODUCING THE BUCKET LIST FAMILY Hi, we are...</td>\n      <td>['Fitness', 'Travel', 'Diet', 'Exercise', 'Vac...</td>\n    </tr>\n    <tr>\n      <td>1</td>\n      <td>Building a Responsive Image Gallery</td>\n      <td>In this post you would learn to build a basic...</td>\n      <td>['Design', 'Data', 'Growth', 'CSS', 'Web Design']</td>\n    </tr>\n    <tr>\n      <td>2</td>\n      <td>When they’re already “forever” for you</td>\n      <td>Because love that’s “light” can last that lon...</td>\n      <td>['Love', 'Relationships', 'Dating', 'Men', 'Wo...</td>\n    </tr>\n    <tr>\n      <td>3</td>\n      <td>Forking The iPhone</td>\n      <td>by Jean-Louis Gassée [A delayed Monday Note d...</td>\n      <td>['Publishing', 'Apple', 'Apple']</td>\n    </tr>\n    <tr>\n      <td>4</td>\n      <td>Method swizzling in iOS swift</td>\n      <td>Today, I was integrating FCM in my iOS app. I...</td>\n      <td>['Swift', 'iOS', 'Apple']</td>\n    </tr>\n  </tbody>\n</table>\n</div>",
      "text/plain": "                                                Name  \\\n0  The Ultimate Travel Workout and Diet Plans by ...   \n1                Building a Responsive Image Gallery   \n2             When they’re already “forever” for you   \n3                                 Forking The iPhone   \n4                      Method swizzling in iOS swift   \n\n                                                Text  \\\n0   INTRODUCING THE BUCKET LIST FAMILY Hi, we are...   \n1   In this post you would learn to build a basic...   \n2   Because love that’s “light” can last that lon...   \n3   by Jean-Louis Gassée [A delayed Monday Note d...   \n4   Today, I was integrating FCM in my iOS app. I...   \n\n                                                Tags  \n0  ['Fitness', 'Travel', 'Diet', 'Exercise', 'Vac...  \n1  ['Design', 'Data', 'Growth', 'CSS', 'Web Design']  \n2  ['Love', 'Relationships', 'Dating', 'Men', 'Wo...  \n3                   ['Publishing', 'Apple', 'Apple']  \n4                          ['Swift', 'iOS', 'Apple']  "
     },
     "execution_count": 55,
     "metadata": {},
     "output_type": "execute_result"
    }
   ],
   "source": [
    "model_db_clean = model_db.dropna(axis=0, how='any', thresh=None, subset=None, inplace=False).reset_index(drop=True)\n",
    "model_db_clean.head()"
   ]
  },
  {
   "cell_type": "code",
   "execution_count": 56,
   "metadata": {},
   "outputs": [
    {
     "data": {
      "text/plain": "6882.800011330803"
     },
     "execution_count": 56,
     "metadata": {},
     "output_type": "execute_result"
    }
   ],
   "source": [
    "sum = 0\n",
    "for i in range(0, model_db_clean.shape[0]):\n",
    "    sum = sum + len(model_db_clean.Text[i])\n",
    "sum/model_db_clean.shape[0]"
   ]
  },
  {
   "cell_type": "code",
   "execution_count": 57,
   "metadata": {},
   "outputs": [
    {
     "name": "stdout",
     "output_type": "stream",
     "text": "<class 'pandas.core.series.Series'>\n"
    },
    {
     "data": {
      "text/html": "<div>\n<style scoped>\n    .dataframe tbody tr th:only-of-type {\n        vertical-align: middle;\n    }\n\n    .dataframe tbody tr th {\n        vertical-align: top;\n    }\n\n    .dataframe thead th {\n        text-align: right;\n    }\n</style>\n<table border=\"1\" class=\"dataframe\">\n  <thead>\n    <tr style=\"text-align: right;\">\n      <th></th>\n      <th>Name</th>\n      <th>Text</th>\n      <th>Tags</th>\n      <th>Tags_clean</th>\n    </tr>\n  </thead>\n  <tbody>\n    <tr>\n      <td>0</td>\n      <td>The Ultimate Travel Workout and Diet Plans by ...</td>\n      <td>INTRODUCING THE BUCKET LIST FAMILY Hi, we are...</td>\n      <td>['Fitness', 'Travel', 'Diet', 'Exercise', 'Vac...</td>\n      <td>[Fitness, Travel, Diet, Exercise, Vacation]</td>\n    </tr>\n    <tr>\n      <td>1</td>\n      <td>Building a Responsive Image Gallery</td>\n      <td>In this post you would learn to build a basic...</td>\n      <td>['Design', 'Data', 'Growth', 'CSS', 'Web Design']</td>\n      <td>[Design, Data, Growth, CSS, Web Design]</td>\n    </tr>\n    <tr>\n      <td>2</td>\n      <td>When they’re already “forever” for you</td>\n      <td>Because love that’s “light” can last that lon...</td>\n      <td>['Love', 'Relationships', 'Dating', 'Men', 'Wo...</td>\n      <td>[Love, Relationships, Dating, Men, Women]</td>\n    </tr>\n    <tr>\n      <td>3</td>\n      <td>Forking The iPhone</td>\n      <td>by Jean-Louis Gassée [A delayed Monday Note d...</td>\n      <td>['Publishing', 'Apple', 'Apple']</td>\n      <td>[Publishing, Apple, Apple]</td>\n    </tr>\n    <tr>\n      <td>4</td>\n      <td>Method swizzling in iOS swift</td>\n      <td>Today, I was integrating FCM in my iOS app. I...</td>\n      <td>['Swift', 'iOS', 'Apple']</td>\n      <td>[Swift, iOS, Apple]</td>\n    </tr>\n  </tbody>\n</table>\n</div>",
      "text/plain": "                                                Name  \\\n0  The Ultimate Travel Workout and Diet Plans by ...   \n1                Building a Responsive Image Gallery   \n2             When they’re already “forever” for you   \n3                                 Forking The iPhone   \n4                      Method swizzling in iOS swift   \n\n                                                Text  \\\n0   INTRODUCING THE BUCKET LIST FAMILY Hi, we are...   \n1   In this post you would learn to build a basic...   \n2   Because love that’s “light” can last that lon...   \n3   by Jean-Louis Gassée [A delayed Monday Note d...   \n4   Today, I was integrating FCM in my iOS app. I...   \n\n                                                Tags  \\\n0  ['Fitness', 'Travel', 'Diet', 'Exercise', 'Vac...   \n1  ['Design', 'Data', 'Growth', 'CSS', 'Web Design']   \n2  ['Love', 'Relationships', 'Dating', 'Men', 'Wo...   \n3                   ['Publishing', 'Apple', 'Apple']   \n4                          ['Swift', 'iOS', 'Apple']   \n\n                                    Tags_clean  \n0  [Fitness, Travel, Diet, Exercise, Vacation]  \n1      [Design, Data, Growth, CSS, Web Design]  \n2    [Love, Relationships, Dating, Men, Women]  \n3                   [Publishing, Apple, Apple]  \n4                          [Swift, iOS, Apple]  "
     },
     "execution_count": 57,
     "metadata": {},
     "output_type": "execute_result"
    }
   ],
   "source": [
    "# from ast import literal_eval\n",
    "def func(raw_tags):\n",
    "    raw_split = raw_tags[1:-1].split(',')\n",
    "    num_tags = len(raw_split)\n",
    "    tags_clean = []\n",
    "    tags_clean.append(raw_split[0][1:-1])\n",
    "    for i in range(1, num_tags):\n",
    "       tags_clean.append(raw_split[i][2:-1])\n",
    "    return tags_clean\n",
    "\n",
    "model_db_clean['Tags_clean'] = model_db_clean['Tags'].apply(lambda x: func(x))\n",
    "\n",
    "# model_db_clean.loc[:,'Tags'] = model_db_clean.loc[:,'Tags'].apply(lambda x: literal_eval(x))\n",
    "print(type(model_db_clean['Tags']))\n",
    "model_db_clean.head()"
   ]
  },
  {
   "cell_type": "code",
   "execution_count": 58,
   "metadata": {},
   "outputs": [
    {
     "name": "stdout",
     "output_type": "stream",
     "text": "(17651, 913) (17651, 4)\n[[0 0 0 ... 0 0 0]\n [0 0 0 ... 0 0 0]\n [0 0 0 ... 0 0 0]\n ...\n [0 0 0 ... 0 0 0]\n [0 0 0 ... 0 0 0]\n [0 0 0 ... 0 0 0]]\n"
    }
   ],
   "source": [
    "multi_label_transform = MultiLabelBinarizer()\n",
    "multi_label_transform.fit(model_db_clean['Tags_clean'])\n",
    "\n",
    "y = multi_label_transform.transform(model_db_clean['Tags_clean'])\n",
    "print(y.shape, model_db_clean.shape)\n",
    "print(y)"
   ]
  },
  {
   "cell_type": "code",
   "execution_count": 60,
   "metadata": {},
   "outputs": [
    {
     "data": {
      "text/html": "<div>\n<style scoped>\n    .dataframe tbody tr th:only-of-type {\n        vertical-align: middle;\n    }\n\n    .dataframe tbody tr th {\n        vertical-align: top;\n    }\n\n    .dataframe thead th {\n        text-align: right;\n    }\n</style>\n<table border=\"1\" class=\"dataframe\">\n  <thead>\n    <tr style=\"text-align: right;\">\n      <th></th>\n      <th>2016</th>\n      <th>2016 Election</th>\n      <th>2017</th>\n      <th>3D Printing</th>\n      <th>AI</th>\n      <th>API</th>\n      <th>AWS</th>\n      <th>Abortion</th>\n      <th>Abuse</th>\n      <th>Academia</th>\n      <th>...</th>\n      <th>YouTube</th>\n      <th>Youth</th>\n      <th>Zen</th>\n      <th>eBooks</th>\n      <th>iOS</th>\n      <th>iOS App Development</th>\n      <th>iPad</th>\n      <th>iPhone</th>\n      <th>日本語</th>\n      <th>Text</th>\n    </tr>\n  </thead>\n  <tbody>\n    <tr>\n      <td>0</td>\n      <td>0</td>\n      <td>0</td>\n      <td>0</td>\n      <td>0</td>\n      <td>0</td>\n      <td>0</td>\n      <td>0</td>\n      <td>0</td>\n      <td>0</td>\n      <td>0</td>\n      <td>...</td>\n      <td>0</td>\n      <td>0</td>\n      <td>0</td>\n      <td>0</td>\n      <td>0</td>\n      <td>0</td>\n      <td>0</td>\n      <td>0</td>\n      <td>0</td>\n      <td>introduc the bucket list famili hi we are the ...</td>\n    </tr>\n    <tr>\n      <td>1</td>\n      <td>0</td>\n      <td>0</td>\n      <td>0</td>\n      <td>0</td>\n      <td>0</td>\n      <td>0</td>\n      <td>0</td>\n      <td>0</td>\n      <td>0</td>\n      <td>0</td>\n      <td>...</td>\n      <td>0</td>\n      <td>0</td>\n      <td>0</td>\n      <td>0</td>\n      <td>0</td>\n      <td>0</td>\n      <td>0</td>\n      <td>0</td>\n      <td>0</td>\n      <td>in thi post you would learn to build a basic i...</td>\n    </tr>\n    <tr>\n      <td>2</td>\n      <td>0</td>\n      <td>0</td>\n      <td>0</td>\n      <td>0</td>\n      <td>0</td>\n      <td>0</td>\n      <td>0</td>\n      <td>0</td>\n      <td>0</td>\n      <td>0</td>\n      <td>...</td>\n      <td>0</td>\n      <td>0</td>\n      <td>0</td>\n      <td>0</td>\n      <td>0</td>\n      <td>0</td>\n      <td>0</td>\n      <td>0</td>\n      <td>0</td>\n      <td>becaus love that s light can last that long al...</td>\n    </tr>\n    <tr>\n      <td>3</td>\n      <td>0</td>\n      <td>0</td>\n      <td>0</td>\n      <td>0</td>\n      <td>0</td>\n      <td>0</td>\n      <td>0</td>\n      <td>0</td>\n      <td>0</td>\n      <td>0</td>\n      <td>...</td>\n      <td>0</td>\n      <td>0</td>\n      <td>0</td>\n      <td>0</td>\n      <td>0</td>\n      <td>0</td>\n      <td>0</td>\n      <td>0</td>\n      <td>0</td>\n      <td>by jean loui gass e a delay monday note due to...</td>\n    </tr>\n    <tr>\n      <td>4</td>\n      <td>0</td>\n      <td>0</td>\n      <td>0</td>\n      <td>0</td>\n      <td>0</td>\n      <td>0</td>\n      <td>0</td>\n      <td>0</td>\n      <td>0</td>\n      <td>0</td>\n      <td>...</td>\n      <td>0</td>\n      <td>0</td>\n      <td>0</td>\n      <td>0</td>\n      <td>1</td>\n      <td>0</td>\n      <td>0</td>\n      <td>0</td>\n      <td>0</td>\n      <td>today i wa integr fcm in my io app i saw the s...</td>\n    </tr>\n  </tbody>\n</table>\n<p>5 rows × 913 columns</p>\n</div>",
      "text/plain": "   2016  2016 Election  2017  3D Printing  AI  API  AWS  Abortion  Abuse  \\\n0     0              0     0            0   0    0    0         0      0   \n1     0              0     0            0   0    0    0         0      0   \n2     0              0     0            0   0    0    0         0      0   \n3     0              0     0            0   0    0    0         0      0   \n4     0              0     0            0   0    0    0         0      0   \n\n   Academia  ...  YouTube  Youth  Zen  eBooks  iOS  iOS App Development  iPad  \\\n0         0  ...        0      0    0       0    0                    0     0   \n1         0  ...        0      0    0       0    0                    0     0   \n2         0  ...        0      0    0       0    0                    0     0   \n3         0  ...        0      0    0       0    0                    0     0   \n4         0  ...        0      0    0       0    1                    0     0   \n\n   iPhone  日本語                                               Text  \n0       0    0  introduc the bucket list famili hi we are the ...  \n1       0    0  in thi post you would learn to build a basic i...  \n2       0    0  becaus love that s light can last that long al...  \n3       0    0  by jean loui gass e a delay monday note due to...  \n4       0    0  today i wa integr fcm in my io app i saw the s...  \n\n[5 rows x 913 columns]"
     },
     "execution_count": 60,
     "metadata": {},
     "output_type": "execute_result"
    }
   ],
   "source": [
    "cols = []\n",
    "for i in list(multi_label_transform.classes_):     \n",
    "    cols.append(i)\n",
    "cols.append('Text')\n",
    "\n",
    "prepd_db = pd.DataFrame()\n",
    "\n",
    "prepd_db.loc[:, 'Text'] = model_db_clean.loc[:, 'Text']\n",
    "for i in range(0, y.shape[1]):\n",
    "        prepd_db.loc[:, i+1] = y[:, i]\n",
    "\n",
    "ps = PorterStemmer()\n",
    "def clean_text(text):\n",
    "    text = re.sub(\"\\'\", \"\", text) \n",
    "    text = re.sub(\"[^a-zA-Z]\",\" \",text) \n",
    "    text = ' '.join(text.split()) \n",
    "    text = text.lower()\n",
    "    _t = \"\"\n",
    "    for t in text.split():\n",
    "        _t += ps.stem(t) + \" \"\n",
    "    text = _t\n",
    "\n",
    "    return text\n",
    "\n",
    "prepd_db['Text_clean'] = prepd_db['Text'].apply(lambda x: clean_text(x))\n",
    "prepd_db.drop(['Text'], axis=1, inplace=True)\n",
    "\n",
    "prepd_db.columns = cols\n",
    "prepd_db.drop([''], axis=1, inplace=True)\n",
    "\n",
    "prepd_db.head()"
   ]
  },
  {
   "cell_type": "code",
   "execution_count": 61,
   "metadata": {},
   "outputs": [
    {
     "data": {
      "text/html": "<div>\n<style scoped>\n    .dataframe tbody tr th:only-of-type {\n        vertical-align: middle;\n    }\n\n    .dataframe tbody tr th {\n        vertical-align: top;\n    }\n\n    .dataframe thead th {\n        text-align: right;\n    }\n</style>\n<table border=\"1\" class=\"dataframe\">\n  <thead>\n    <tr style=\"text-align: right;\">\n      <th></th>\n      <th>2016</th>\n      <th>2016 Election</th>\n      <th>2017</th>\n      <th>3D Printing</th>\n      <th>AI</th>\n      <th>API</th>\n      <th>AWS</th>\n      <th>Abortion</th>\n      <th>Abuse</th>\n      <th>Academia</th>\n      <th>...</th>\n      <th>YouTube</th>\n      <th>Youth</th>\n      <th>Zen</th>\n      <th>eBooks</th>\n      <th>iOS</th>\n      <th>iOS App Development</th>\n      <th>iPad</th>\n      <th>iPhone</th>\n      <th>日本語</th>\n      <th>Text</th>\n    </tr>\n  </thead>\n  <tbody>\n    <tr>\n      <td>0</td>\n      <td>0</td>\n      <td>0</td>\n      <td>0</td>\n      <td>0</td>\n      <td>0</td>\n      <td>0</td>\n      <td>0</td>\n      <td>0</td>\n      <td>0</td>\n      <td>0</td>\n      <td>...</td>\n      <td>0</td>\n      <td>0</td>\n      <td>0</td>\n      <td>0</td>\n      <td>0</td>\n      <td>0</td>\n      <td>0</td>\n      <td>0</td>\n      <td>0</td>\n      <td>introduc bucket list famili hi bucket list fam...</td>\n    </tr>\n    <tr>\n      <td>1</td>\n      <td>0</td>\n      <td>0</td>\n      <td>0</td>\n      <td>0</td>\n      <td>0</td>\n      <td>0</td>\n      <td>0</td>\n      <td>0</td>\n      <td>0</td>\n      <td>0</td>\n      <td>...</td>\n      <td>0</td>\n      <td>0</td>\n      <td>0</td>\n      <td>0</td>\n      <td>0</td>\n      <td>0</td>\n      <td>0</td>\n      <td>0</td>\n      <td>0</td>\n      <td>thi post would learn build basic imag galleri ...</td>\n    </tr>\n    <tr>\n      <td>2</td>\n      <td>0</td>\n      <td>0</td>\n      <td>0</td>\n      <td>0</td>\n      <td>0</td>\n      <td>0</td>\n      <td>0</td>\n      <td>0</td>\n      <td>0</td>\n      <td>0</td>\n      <td>...</td>\n      <td>0</td>\n      <td>0</td>\n      <td>0</td>\n      <td>0</td>\n      <td>0</td>\n      <td>0</td>\n      <td>0</td>\n      <td>0</td>\n      <td>0</td>\n      <td>becaus love light last long past partner frank...</td>\n    </tr>\n    <tr>\n      <td>3</td>\n      <td>0</td>\n      <td>0</td>\n      <td>0</td>\n      <td>0</td>\n      <td>0</td>\n      <td>0</td>\n      <td>0</td>\n      <td>0</td>\n      <td>0</td>\n      <td>0</td>\n      <td>...</td>\n      <td>0</td>\n      <td>0</td>\n      <td>0</td>\n      <td>0</td>\n      <td>0</td>\n      <td>0</td>\n      <td>0</td>\n      <td>0</td>\n      <td>0</td>\n      <td>jean loui gass e delay monday note due logist ...</td>\n    </tr>\n    <tr>\n      <td>4</td>\n      <td>0</td>\n      <td>0</td>\n      <td>0</td>\n      <td>0</td>\n      <td>0</td>\n      <td>0</td>\n      <td>0</td>\n      <td>0</td>\n      <td>0</td>\n      <td>0</td>\n      <td>...</td>\n      <td>0</td>\n      <td>0</td>\n      <td>0</td>\n      <td>0</td>\n      <td>1</td>\n      <td>0</td>\n      <td>0</td>\n      <td>0</td>\n      <td>0</td>\n      <td>today wa integr fcm io app saw word method swi...</td>\n    </tr>\n  </tbody>\n</table>\n<p>5 rows × 913 columns</p>\n</div>",
      "text/plain": "   2016  2016 Election  2017  3D Printing  AI  API  AWS  Abortion  Abuse  \\\n0     0              0     0            0   0    0    0         0      0   \n1     0              0     0            0   0    0    0         0      0   \n2     0              0     0            0   0    0    0         0      0   \n3     0              0     0            0   0    0    0         0      0   \n4     0              0     0            0   0    0    0         0      0   \n\n   Academia  ...  YouTube  Youth  Zen  eBooks  iOS  iOS App Development  iPad  \\\n0         0  ...        0      0    0       0    0                    0     0   \n1         0  ...        0      0    0       0    0                    0     0   \n2         0  ...        0      0    0       0    0                    0     0   \n3         0  ...        0      0    0       0    0                    0     0   \n4         0  ...        0      0    0       0    1                    0     0   \n\n   iPhone  日本語                                               Text  \n0       0    0  introduc bucket list famili hi bucket list fam...  \n1       0    0  thi post would learn build basic imag galleri ...  \n2       0    0  becaus love light last long past partner frank...  \n3       0    0  jean loui gass e delay monday note due logist ...  \n4       0    0  today wa integr fcm io app saw word method swi...  \n\n[5 rows x 913 columns]"
     },
     "execution_count": 61,
     "metadata": {},
     "output_type": "execute_result"
    }
   ],
   "source": [
    "def remove_stopwords(text):\n",
    "    stop_words = set(stopwords.words('english'))\n",
    "    no_stopword_text = [w for w in text.split() if not w in stop_words]\n",
    "    return ' '.join(no_stopword_text)\n",
    "\n",
    "prepd_db['Text'] = prepd_db['Text'].apply(lambda x: remove_stopwords(x))\n",
    "prepd_db.head()"
   ]
  },
  {
   "cell_type": "code",
   "execution_count": 62,
   "metadata": {},
   "outputs": [
    {
     "name": "stdout",
     "output_type": "stream",
     "text": "0    17132\n1      519\nName: AI, dtype: int64\n0    16689\n1      962\nName: Blockchain, dtype: int64\n0    17125\n1      526\nName: Business, dtype: int64\n0    17041\n1      610\nName: Cryptocurrency, dtype: int64\n0    17088\n1      563\nName: Data Science, dtype: int64\n0    16620\n1     1031\nName: Design, dtype: int64\n0    16767\n1      884\nName: Entrepreneurship, dtype: int64\n0    17139\n1      512\nName: Health, dtype: int64\n0    17147\n1      504\nName: Humor, dtype: int64\n0    15963\n1     1688\nName: Life, dtype: int64\n0    16349\n1     1302\nName: Life Lessons, dtype: int64\n0    16857\n1      794\nName: Love, dtype: int64\n0    16888\n1      763\nName: Machine Learning, dtype: int64\n0    17140\n1      511\nName: Marketing, dtype: int64\n0    17076\n1      575\nName: News, dtype: int64\n0    16918\n1      733\nName: Poetry, dtype: int64\n0    16427\n1     1224\nName: Politics, dtype: int64\n0    16950\n1      701\nName: Productivity, dtype: int64\n0    16966\n1      685\nName: Programming, dtype: int64\n0    17109\n1      542\nName: Psychology, dtype: int64\n0    16905\n1      746\nName: Relationships, dtype: int64\n0    16161\n1     1490\nName: Self Improvement, dtype: int64\n0    16659\n1      992\nName: Software Development, dtype: int64\n0    17140\n1      511\nName: Sports, dtype: int64\n0    16551\n1     1100\nName: Startup, dtype: int64\n0    16876\n1      775\nName: Tech, dtype: int64\n0    16734\n1      917\nName: Technology, dtype: int64\n0    16952\n1      699\nName: UX, dtype: int64\n0    17130\n1      521\nName: Web Development, dtype: int64\n0    16665\n1      986\nName: Writing, dtype: int64\n"
    }
   ],
   "source": [
    "for i in range(0, prepd_db.shape[1]):\n",
    "    x = prepd_db.iloc[:, i].value_counts()\n",
    "    if x[1] > 500:\n",
    "        print(x)"
   ]
  },
  {
   "cell_type": "code",
   "execution_count": 65,
   "metadata": {},
   "outputs": [
    {
     "data": {
      "text/html": "<div>\n<style scoped>\n    .dataframe tbody tr th:only-of-type {\n        vertical-align: middle;\n    }\n\n    .dataframe tbody tr th {\n        vertical-align: top;\n    }\n\n    .dataframe thead th {\n        text-align: right;\n    }\n</style>\n<table border=\"1\" class=\"dataframe\">\n  <thead>\n    <tr style=\"text-align: right;\">\n      <th></th>\n      <th>AI</th>\n      <th>Blockchain</th>\n      <th>Business</th>\n      <th>Cryptocurrency</th>\n      <th>Data Science</th>\n      <th>Design</th>\n      <th>Entrepreneurship</th>\n      <th>Health</th>\n      <th>Humor</th>\n      <th>Life</th>\n      <th>...</th>\n      <th>Self Improvement</th>\n      <th>Software Development</th>\n      <th>Sports</th>\n      <th>Startup</th>\n      <th>Tech</th>\n      <th>Technology</th>\n      <th>UX</th>\n      <th>Web Development</th>\n      <th>Writing</th>\n      <th>Text</th>\n    </tr>\n  </thead>\n  <tbody>\n    <tr>\n      <td>0</td>\n      <td>0</td>\n      <td>0</td>\n      <td>0</td>\n      <td>0</td>\n      <td>0</td>\n      <td>0</td>\n      <td>0</td>\n      <td>0</td>\n      <td>0</td>\n      <td>0</td>\n      <td>...</td>\n      <td>0</td>\n      <td>0</td>\n      <td>0</td>\n      <td>0</td>\n      <td>0</td>\n      <td>0</td>\n      <td>0</td>\n      <td>0</td>\n      <td>0</td>\n      <td>introduc bucket list famili hi bucket list fam...</td>\n    </tr>\n    <tr>\n      <td>1</td>\n      <td>0</td>\n      <td>0</td>\n      <td>0</td>\n      <td>0</td>\n      <td>0</td>\n      <td>1</td>\n      <td>0</td>\n      <td>0</td>\n      <td>0</td>\n      <td>0</td>\n      <td>...</td>\n      <td>0</td>\n      <td>0</td>\n      <td>0</td>\n      <td>0</td>\n      <td>0</td>\n      <td>0</td>\n      <td>0</td>\n      <td>0</td>\n      <td>0</td>\n      <td>thi post would learn build basic imag galleri ...</td>\n    </tr>\n    <tr>\n      <td>2</td>\n      <td>0</td>\n      <td>0</td>\n      <td>0</td>\n      <td>0</td>\n      <td>0</td>\n      <td>0</td>\n      <td>0</td>\n      <td>0</td>\n      <td>0</td>\n      <td>0</td>\n      <td>...</td>\n      <td>0</td>\n      <td>0</td>\n      <td>0</td>\n      <td>0</td>\n      <td>0</td>\n      <td>0</td>\n      <td>0</td>\n      <td>0</td>\n      <td>0</td>\n      <td>becaus love light last long past partner frank...</td>\n    </tr>\n    <tr>\n      <td>3</td>\n      <td>0</td>\n      <td>0</td>\n      <td>0</td>\n      <td>0</td>\n      <td>0</td>\n      <td>0</td>\n      <td>0</td>\n      <td>0</td>\n      <td>0</td>\n      <td>0</td>\n      <td>...</td>\n      <td>0</td>\n      <td>0</td>\n      <td>0</td>\n      <td>0</td>\n      <td>0</td>\n      <td>0</td>\n      <td>0</td>\n      <td>0</td>\n      <td>0</td>\n      <td>jean loui gass e delay monday note due logist ...</td>\n    </tr>\n    <tr>\n      <td>4</td>\n      <td>0</td>\n      <td>0</td>\n      <td>0</td>\n      <td>0</td>\n      <td>0</td>\n      <td>0</td>\n      <td>0</td>\n      <td>0</td>\n      <td>0</td>\n      <td>0</td>\n      <td>...</td>\n      <td>0</td>\n      <td>0</td>\n      <td>0</td>\n      <td>0</td>\n      <td>0</td>\n      <td>0</td>\n      <td>0</td>\n      <td>0</td>\n      <td>0</td>\n      <td>today wa integr fcm io app saw word method swi...</td>\n    </tr>\n  </tbody>\n</table>\n<p>5 rows × 31 columns</p>\n</div>",
      "text/plain": "   AI  Blockchain  Business  Cryptocurrency  Data Science  Design  \\\n0   0           0         0               0             0       0   \n1   0           0         0               0             0       1   \n2   0           0         0               0             0       0   \n3   0           0         0               0             0       0   \n4   0           0         0               0             0       0   \n\n   Entrepreneurship  Health  Humor  Life  ...  Self Improvement  \\\n0                 0       0      0     0  ...                 0   \n1                 0       0      0     0  ...                 0   \n2                 0       0      0     0  ...                 0   \n3                 0       0      0     0  ...                 0   \n4                 0       0      0     0  ...                 0   \n\n   Software Development  Sports  Startup  Tech  Technology  UX  \\\n0                     0       0        0     0           0   0   \n1                     0       0        0     0           0   0   \n2                     0       0        0     0           0   0   \n3                     0       0        0     0           0   0   \n4                     0       0        0     0           0   0   \n\n   Web Development  Writing                                               Text  \n0                0        0  introduc bucket list famili hi bucket list fam...  \n1                0        0  thi post would learn build basic imag galleri ...  \n2                0        0  becaus love light last long past partner frank...  \n3                0        0  jean loui gass e delay monday note due logist ...  \n4                0        0  today wa integr fcm io app saw word method swi...  \n\n[5 rows x 31 columns]"
     },
     "execution_count": 65,
     "metadata": {},
     "output_type": "execute_result"
    }
   ],
   "source": [
    "y = []\n",
    "for i in range(0, prepd_db.shape[1]):\n",
    "    x = prepd_db.iloc[:, i].value_counts()\n",
    "    if x[1] > 500:\n",
    "        y.append(x.name)      \n",
    "  \n",
    "model_final_data = prepd_db[y]\n",
    "model_final_data['Text'] = prepd_db['Text']\n",
    "\n",
    "model_final_data.head()"
   ]
  },
  {
   "cell_type": "code",
   "execution_count": 66,
   "metadata": {},
   "outputs": [],
   "source": [
    "model_final_data.to_csv('model-data.csv')"
   ]
  },
  {
   "cell_type": "code",
   "execution_count": 67,
   "metadata": {},
   "outputs": [],
   "source": [
    "tfidf_vectorizer = TfidfVectorizer(max_df=0.8, max_features=1000)\n",
    "train_tfidf = tfidf_vectorizer.fit_transform(model_final_data['Text'])\n",
    "\n",
    "# for x in range(0, len(model_final_data.columns)-1):\n",
    "#     xtrain, xval, ytrain, yval = train_test_split(model_final_data['Text'], model_final_data.iloc[:, x], test_size=0.2, random_state=9)\n",
    "\n",
    "#     xtrain_tfidf = tfidf_vectorizer.fit_transform(xtrain)\n",
    "#     xval_tfidf = tfidf_vectorizer.transform(xval)\n",
    "\n",
    "#     lr = LogisticRegression(tol=0.3)\n",
    "#     lr.fit(xtrain_tfidf, ytrain)\n",
    "\n",
    "#     joblib.dump(lr, 'model_pickle_files/' + str(model_final_data.columns[x]) + '.pkl')\n",
    "\n",
    "for x in range(0, len(model_final_data.columns)-1):\n",
    "\n",
    "    lr = LogisticRegression(tol=0.75)\n",
    "    lr.fit(train_tfidf, model_final_data.iloc[:, x])\n",
    "\n",
    "    joblib.dump(lr, 'model_pickle_files/' + str(model_final_data.columns[x]) + '.pkl')"
   ]
  }
 ]
}