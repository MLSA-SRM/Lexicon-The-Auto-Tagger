{
 "nbformat": 4,
 "nbformat_minor": 2,
 "metadata": {
  "language_info": {
   "name": "python",
   "codemirror_mode": {
    "name": "ipython",
    "version": 3
   },
   "version": "3.7.1-final"
  },
  "orig_nbformat": 2,
  "file_extension": ".py",
  "mimetype": "text/x-python",
  "name": "python",
  "npconvert_exporter": "python",
  "pygments_lexer": "ipython3",
  "version": 3,
  "kernelspec": {
   "name": "python3",
   "display_name": "Python 3"
  }
 },
 "cells": [
  {
   "cell_type": "code",
   "execution_count": 47,
   "metadata": {},
   "outputs": [],
   "source": [
    "import numpy\n",
    "import pandas as pd \n",
    "import nltk\n",
    "import string\n",
    "from sklearn.preprocessing import MultiLabelBinarizer\n",
    "from sklearn.feature_extraction.text import TfidfVectorizer\n",
    "from sklearn.model_selection import train_test_split"
   ]
  },
  {
   "cell_type": "code",
   "execution_count": 106,
   "metadata": {},
   "outputs": [
    {
     "name": "stdout",
     "output_type": "stream",
     "text": "(727, 6)\n"
    },
    {
     "data": {
      "text/html": "<div>\n<style scoped>\n    .dataframe tbody tr th:only-of-type {\n        vertical-align: middle;\n    }\n\n    .dataframe tbody tr th {\n        vertical-align: top;\n    }\n\n    .dataframe thead th {\n        text-align: right;\n    }\n</style>\n<table border=\"1\" class=\"dataframe\">\n  <thead>\n    <tr style=\"text-align: right;\">\n      <th></th>\n      <th>Unnamed: 0</th>\n      <th>Name</th>\n      <th>Url</th>\n      <th>Text</th>\n      <th>Tags</th>\n      <th>Claps</th>\n    </tr>\n  </thead>\n  <tbody>\n    <tr>\n      <td>0</td>\n      <td>0</td>\n      <td>None</td>\n      <td>https://medium.com/@elektra.sunn/cheshire-moon...</td>\n      <td>NaN</td>\n      <td>[]</td>\n      <td>[]</td>\n    </tr>\n    <tr>\n      <td>1</td>\n      <td>0</td>\n      <td>None</td>\n      <td>https://medium.com/@nicolascole77/if-youre-doi...</td>\n      <td>NaN</td>\n      <td>[]</td>\n      <td>[]</td>\n    </tr>\n    <tr>\n      <td>2</td>\n      <td>0</td>\n      <td>The Ultimate Travel Workout and Diet Plans by ...</td>\n      <td>https://medium.com/@garrettgee/the-bucket-list...</td>\n      <td>INTRODUCING THE BUCKET LIST FAMILY Hi, we are...</td>\n      <td>['Fitness', 'Travel', 'Diet', 'Exercise', 'Vac...</td>\n      <td>[]</td>\n    </tr>\n    <tr>\n      <td>3</td>\n      <td>0</td>\n      <td>Building a Responsive Image Gallery</td>\n      <td>https://medium.com/backticks-tildes/building-a...</td>\n      <td>In this post you would learn to build a basic...</td>\n      <td>['Design', 'Data', 'Growth', 'CSS', 'Web Design']</td>\n      <td>[]</td>\n    </tr>\n    <tr>\n      <td>4</td>\n      <td>0</td>\n      <td>When they’re already “forever” for you</td>\n      <td>https://medium.com/@krisgage/when-theyre-alrea...</td>\n      <td>Because love that’s “light” can last that lon...</td>\n      <td>['Love', 'Relationships', 'Dating', 'Men', 'Wo...</td>\n      <td>[]</td>\n    </tr>\n  </tbody>\n</table>\n</div>",
      "text/plain": "   Unnamed: 0                                               Name  \\\n0           0                                               None   \n1           0                                               None   \n2           0  The Ultimate Travel Workout and Diet Plans by ...   \n3           0                Building a Responsive Image Gallery   \n4           0             When they’re already “forever” for you   \n\n                                                 Url  \\\n0  https://medium.com/@elektra.sunn/cheshire-moon...   \n1  https://medium.com/@nicolascole77/if-youre-doi...   \n2  https://medium.com/@garrettgee/the-bucket-list...   \n3  https://medium.com/backticks-tildes/building-a...   \n4  https://medium.com/@krisgage/when-theyre-alrea...   \n\n                                                Text  \\\n0                                                NaN   \n1                                                NaN   \n2   INTRODUCING THE BUCKET LIST FAMILY Hi, we are...   \n3   In this post you would learn to build a basic...   \n4   Because love that’s “light” can last that lon...   \n\n                                                Tags Claps  \n0                                                 []    []  \n1                                                 []    []  \n2  ['Fitness', 'Travel', 'Diet', 'Exercise', 'Vac...    []  \n3  ['Design', 'Data', 'Growth', 'CSS', 'Web Design']    []  \n4  ['Love', 'Relationships', 'Dating', 'Men', 'Wo...    []  "
     },
     "execution_count": 106,
     "metadata": {},
     "output_type": "execute_result"
    }
   ],
   "source": [
    "art_df = pd.read_csv('C:/Users/Powerhouse/Documents/GitHub/Project-High/article-database.csv')\n",
    "print(art_df.shape)\n",
    "art_df.head()"
   ]
  },
  {
   "cell_type": "code",
   "execution_count": 107,
   "metadata": {},
   "outputs": [
    {
     "data": {
      "text/html": "<div>\n<style scoped>\n    .dataframe tbody tr th:only-of-type {\n        vertical-align: middle;\n    }\n\n    .dataframe tbody tr th {\n        vertical-align: top;\n    }\n\n    .dataframe thead th {\n        text-align: right;\n    }\n</style>\n<table border=\"1\" class=\"dataframe\">\n  <thead>\n    <tr style=\"text-align: right;\">\n      <th></th>\n      <th>Text</th>\n      <th>Tags</th>\n    </tr>\n  </thead>\n  <tbody>\n    <tr>\n      <td>0</td>\n      <td>NaN</td>\n      <td>[]</td>\n    </tr>\n    <tr>\n      <td>1</td>\n      <td>NaN</td>\n      <td>[]</td>\n    </tr>\n    <tr>\n      <td>2</td>\n      <td>INTRODUCING THE BUCKET LIST FAMILY Hi, we are...</td>\n      <td>['Fitness', 'Travel', 'Diet', 'Exercise', 'Vac...</td>\n    </tr>\n    <tr>\n      <td>3</td>\n      <td>In this post you would learn to build a basic...</td>\n      <td>['Design', 'Data', 'Growth', 'CSS', 'Web Design']</td>\n    </tr>\n    <tr>\n      <td>4</td>\n      <td>Because love that’s “light” can last that lon...</td>\n      <td>['Love', 'Relationships', 'Dating', 'Men', 'Wo...</td>\n    </tr>\n  </tbody>\n</table>\n</div>",
      "text/plain": "                                                Text  \\\n0                                                NaN   \n1                                                NaN   \n2   INTRODUCING THE BUCKET LIST FAMILY Hi, we are...   \n3   In this post you would learn to build a basic...   \n4   Because love that’s “light” can last that lon...   \n\n                                                Tags  \n0                                                 []  \n1                                                 []  \n2  ['Fitness', 'Travel', 'Diet', 'Exercise', 'Vac...  \n3  ['Design', 'Data', 'Growth', 'CSS', 'Web Design']  \n4  ['Love', 'Relationships', 'Dating', 'Men', 'Wo...  "
     },
     "execution_count": 107,
     "metadata": {},
     "output_type": "execute_result"
    }
   ],
   "source": [
    "model_db = art_df.drop([art_df.columns[0], art_df.columns[1], art_df.columns[2], art_df.columns[5]], axis=1)\n",
    "model_db.head()"
   ]
  },
  {
   "cell_type": "code",
   "execution_count": 108,
   "metadata": {},
   "outputs": [
    {
     "data": {
      "text/plain": "Text    44\nTags     0\ndtype: int64"
     },
     "execution_count": 108,
     "metadata": {},
     "output_type": "execute_result"
    }
   ],
   "source": [
    "model_db.isnull().sum()"
   ]
  },
  {
   "cell_type": "code",
   "execution_count": 109,
   "metadata": {},
   "outputs": [
    {
     "data": {
      "text/html": "<div>\n<style scoped>\n    .dataframe tbody tr th:only-of-type {\n        vertical-align: middle;\n    }\n\n    .dataframe tbody tr th {\n        vertical-align: top;\n    }\n\n    .dataframe thead th {\n        text-align: right;\n    }\n</style>\n<table border=\"1\" class=\"dataframe\">\n  <thead>\n    <tr style=\"text-align: right;\">\n      <th></th>\n      <th>Text</th>\n      <th>Tags</th>\n    </tr>\n  </thead>\n  <tbody>\n    <tr>\n      <td>0</td>\n      <td>INTRODUCING THE BUCKET LIST FAMILY Hi, we are...</td>\n      <td>['Fitness', 'Travel', 'Diet', 'Exercise', 'Vac...</td>\n    </tr>\n    <tr>\n      <td>1</td>\n      <td>In this post you would learn to build a basic...</td>\n      <td>['Design', 'Data', 'Growth', 'CSS', 'Web Design']</td>\n    </tr>\n    <tr>\n      <td>2</td>\n      <td>Because love that’s “light” can last that lon...</td>\n      <td>['Love', 'Relationships', 'Dating', 'Men', 'Wo...</td>\n    </tr>\n    <tr>\n      <td>3</td>\n      <td>by Jean-Louis Gassée [A delayed Monday Note d...</td>\n      <td>['Publishing', 'Apple', 'Apple']</td>\n    </tr>\n    <tr>\n      <td>4</td>\n      <td>Today, I was integrating FCM in my iOS app. I...</td>\n      <td>['Swift', 'iOS', 'Apple']</td>\n    </tr>\n  </tbody>\n</table>\n</div>",
      "text/plain": "                                                Text  \\\n0   INTRODUCING THE BUCKET LIST FAMILY Hi, we are...   \n1   In this post you would learn to build a basic...   \n2   Because love that’s “light” can last that lon...   \n3   by Jean-Louis Gassée [A delayed Monday Note d...   \n4   Today, I was integrating FCM in my iOS app. I...   \n\n                                                Tags  \n0  ['Fitness', 'Travel', 'Diet', 'Exercise', 'Vac...  \n1  ['Design', 'Data', 'Growth', 'CSS', 'Web Design']  \n2  ['Love', 'Relationships', 'Dating', 'Men', 'Wo...  \n3                   ['Publishing', 'Apple', 'Apple']  \n4                          ['Swift', 'iOS', 'Apple']  "
     },
     "execution_count": 109,
     "metadata": {},
     "output_type": "execute_result"
    }
   ],
   "source": [
    "model_db_clean = model_db.dropna(axis=0, how='any', thresh=None, subset=None, inplace=False).reset_index(drop=True)\n",
    "model_db_clean.head()"
   ]
  },
  {
   "cell_type": "code",
   "execution_count": 114,
   "metadata": {},
   "outputs": [
    {
     "name": "stdout",
     "output_type": "stream",
     "text": "<class 'pandas.core.series.Series'>\n"
    },
    {
     "data": {
      "text/html": "<div>\n<style scoped>\n    .dataframe tbody tr th:only-of-type {\n        vertical-align: middle;\n    }\n\n    .dataframe tbody tr th {\n        vertical-align: top;\n    }\n\n    .dataframe thead th {\n        text-align: right;\n    }\n</style>\n<table border=\"1\" class=\"dataframe\">\n  <thead>\n    <tr style=\"text-align: right;\">\n      <th></th>\n      <th>Text</th>\n      <th>Tags</th>\n      <th>Tags_clean</th>\n    </tr>\n  </thead>\n  <tbody>\n    <tr>\n      <td>0</td>\n      <td>INTRODUCING THE BUCKET LIST FAMILY Hi, we are...</td>\n      <td>['Fitness', 'Travel', 'Diet', 'Exercise', 'Vac...</td>\n      <td>[Fitness, Travel, Diet, Exercise, Vacation]</td>\n    </tr>\n    <tr>\n      <td>1</td>\n      <td>In this post you would learn to build a basic...</td>\n      <td>['Design', 'Data', 'Growth', 'CSS', 'Web Design']</td>\n      <td>[Design, Data, Growth, CSS, Web Design]</td>\n    </tr>\n    <tr>\n      <td>2</td>\n      <td>Because love that’s “light” can last that lon...</td>\n      <td>['Love', 'Relationships', 'Dating', 'Men', 'Wo...</td>\n      <td>[Love, Relationships, Dating, Men, Women]</td>\n    </tr>\n    <tr>\n      <td>3</td>\n      <td>by Jean-Louis Gassée [A delayed Monday Note d...</td>\n      <td>['Publishing', 'Apple', 'Apple']</td>\n      <td>[Publishing, Apple, Apple]</td>\n    </tr>\n    <tr>\n      <td>4</td>\n      <td>Today, I was integrating FCM in my iOS app. I...</td>\n      <td>['Swift', 'iOS', 'Apple']</td>\n      <td>[Swift, iOS, Apple]</td>\n    </tr>\n  </tbody>\n</table>\n</div>",
      "text/plain": "                                                Text  \\\n0   INTRODUCING THE BUCKET LIST FAMILY Hi, we are...   \n1   In this post you would learn to build a basic...   \n2   Because love that’s “light” can last that lon...   \n3   by Jean-Louis Gassée [A delayed Monday Note d...   \n4   Today, I was integrating FCM in my iOS app. I...   \n\n                                                Tags  \\\n0  ['Fitness', 'Travel', 'Diet', 'Exercise', 'Vac...   \n1  ['Design', 'Data', 'Growth', 'CSS', 'Web Design']   \n2  ['Love', 'Relationships', 'Dating', 'Men', 'Wo...   \n3                   ['Publishing', 'Apple', 'Apple']   \n4                          ['Swift', 'iOS', 'Apple']   \n\n                                    Tags_clean  \n0  [Fitness, Travel, Diet, Exercise, Vacation]  \n1      [Design, Data, Growth, CSS, Web Design]  \n2    [Love, Relationships, Dating, Men, Women]  \n3                   [Publishing, Apple, Apple]  \n4                          [Swift, iOS, Apple]  "
     },
     "execution_count": 114,
     "metadata": {},
     "output_type": "execute_result"
    }
   ],
   "source": [
    "# from ast import literal_eval\n",
    "def func(raw_tags):\n",
    "    raw_split = raw_tags[1:-1].split(',')\n",
    "    num_tags = len(raw_split)\n",
    "    tags_clean = []\n",
    "    tags_clean.append(raw_split[0][1:-1])\n",
    "    for i in range(1, num_tags):\n",
    "       tags_clean.append(raw_split[i][2:-1])\n",
    "    return tags_clean\n",
    "\n",
    "model_db_clean['Tags_clean'] = model_db_clean['Tags'].apply(lambda x: func(x))\n",
    "\n",
    "# model_db_clean.loc[:,'Tags'] = model_db_clean.loc[:,'Tags'].apply(lambda x: literal_eval(x))\n",
    "print(type(model_db_clean['Tags']))\n",
    "model_db_clean.head()"
   ]
  },
  {
   "cell_type": "code",
   "execution_count": 127,
   "metadata": {},
   "outputs": [
    {
     "name": "stdout",
     "output_type": "stream",
     "text": "(683, 500) (683, 3)\n"
    }
   ],
   "source": [
    "multi_label_transform = MultiLabelBinarizer()\n",
    "multi_label_transform.fit(model_db_clean.Tags_clean)\n",
    "\n",
    "y = multi_label_transform.transform(model_db_clean.Tags_clean)\n",
    "print(y.shape, model_db_clean.shape)"
   ]
  },
  {
   "cell_type": "code",
   "execution_count": 142,
   "metadata": {},
   "outputs": [
    {
     "data": {
      "text/html": "<div>\n<style scoped>\n    .dataframe tbody tr th:only-of-type {\n        vertical-align: middle;\n    }\n\n    .dataframe tbody tr th {\n        vertical-align: top;\n    }\n\n    .dataframe thead th {\n        text-align: right;\n    }\n</style>\n<table border=\"1\" class=\"dataframe\">\n  <thead>\n    <tr style=\"text-align: right;\">\n      <th></th>\n      <th>Text</th>\n      <th>2017</th>\n      <th>AI</th>\n      <th>API</th>\n      <th>Abuse</th>\n      <th>Academia</th>\n      <th>Accessibility</th>\n      <th>Activism</th>\n      <th>Addiction</th>\n      <th>Adventure</th>\n      <th>...</th>\n      <th>World</th>\n      <th>Writing</th>\n      <th>Writing Prompts</th>\n      <th>Writing Tips</th>\n      <th>Yoga</th>\n      <th>YouTube</th>\n      <th>iOS</th>\n      <th>iOS App Development</th>\n      <th>iPad</th>\n      <th>iPhone</th>\n    </tr>\n  </thead>\n  <tbody>\n    <tr>\n      <td>0</td>\n      <td>INTRODUCING THE BUCKET LIST FAMILY Hi, we are...</td>\n      <td>0</td>\n      <td>0</td>\n      <td>0</td>\n      <td>0</td>\n      <td>0</td>\n      <td>0</td>\n      <td>0</td>\n      <td>0</td>\n      <td>0</td>\n      <td>...</td>\n      <td>0</td>\n      <td>0</td>\n      <td>0</td>\n      <td>0</td>\n      <td>0</td>\n      <td>0</td>\n      <td>0</td>\n      <td>0</td>\n      <td>0</td>\n      <td>0</td>\n    </tr>\n    <tr>\n      <td>1</td>\n      <td>In this post you would learn to build a basic...</td>\n      <td>0</td>\n      <td>0</td>\n      <td>0</td>\n      <td>0</td>\n      <td>0</td>\n      <td>0</td>\n      <td>0</td>\n      <td>0</td>\n      <td>0</td>\n      <td>...</td>\n      <td>0</td>\n      <td>0</td>\n      <td>0</td>\n      <td>0</td>\n      <td>0</td>\n      <td>0</td>\n      <td>0</td>\n      <td>0</td>\n      <td>0</td>\n      <td>0</td>\n    </tr>\n    <tr>\n      <td>2</td>\n      <td>Because love that’s “light” can last that lon...</td>\n      <td>0</td>\n      <td>0</td>\n      <td>0</td>\n      <td>0</td>\n      <td>0</td>\n      <td>0</td>\n      <td>0</td>\n      <td>0</td>\n      <td>0</td>\n      <td>...</td>\n      <td>0</td>\n      <td>0</td>\n      <td>0</td>\n      <td>0</td>\n      <td>0</td>\n      <td>0</td>\n      <td>0</td>\n      <td>0</td>\n      <td>0</td>\n      <td>0</td>\n    </tr>\n    <tr>\n      <td>3</td>\n      <td>by Jean-Louis Gassée [A delayed Monday Note d...</td>\n      <td>0</td>\n      <td>0</td>\n      <td>0</td>\n      <td>0</td>\n      <td>0</td>\n      <td>0</td>\n      <td>0</td>\n      <td>0</td>\n      <td>0</td>\n      <td>...</td>\n      <td>0</td>\n      <td>0</td>\n      <td>0</td>\n      <td>0</td>\n      <td>0</td>\n      <td>0</td>\n      <td>0</td>\n      <td>0</td>\n      <td>0</td>\n      <td>0</td>\n    </tr>\n    <tr>\n      <td>4</td>\n      <td>Today, I was integrating FCM in my iOS app. I...</td>\n      <td>0</td>\n      <td>0</td>\n      <td>0</td>\n      <td>0</td>\n      <td>0</td>\n      <td>0</td>\n      <td>0</td>\n      <td>0</td>\n      <td>0</td>\n      <td>...</td>\n      <td>0</td>\n      <td>0</td>\n      <td>0</td>\n      <td>0</td>\n      <td>0</td>\n      <td>0</td>\n      <td>1</td>\n      <td>0</td>\n      <td>0</td>\n      <td>0</td>\n    </tr>\n  </tbody>\n</table>\n<p>5 rows × 500 columns</p>\n</div>",
      "text/plain": "                                                Text  2017  AI  API  Abuse  \\\n0   INTRODUCING THE BUCKET LIST FAMILY Hi, we are...     0   0    0      0   \n1   In this post you would learn to build a basic...     0   0    0      0   \n2   Because love that’s “light” can last that lon...     0   0    0      0   \n3   by Jean-Louis Gassée [A delayed Monday Note d...     0   0    0      0   \n4   Today, I was integrating FCM in my iOS app. I...     0   0    0      0   \n\n   Academia  Accessibility  Activism  Addiction  Adventure  ...  World  \\\n0         0              0         0          0          0  ...      0   \n1         0              0         0          0          0  ...      0   \n2         0              0         0          0          0  ...      0   \n3         0              0         0          0          0  ...      0   \n4         0              0         0          0          0  ...      0   \n\n   Writing  Writing Prompts  Writing Tips  Yoga  YouTube  iOS  \\\n0        0                0             0     0        0    0   \n1        0                0             0     0        0    0   \n2        0                0             0     0        0    0   \n3        0                0             0     0        0    0   \n4        0                0             0     0        0    1   \n\n   iOS App Development  iPad  iPhone  \n0                    0     0       0  \n1                    0     0       0  \n2                    0     0       0  \n3                    0     0       0  \n4                    0     0       0  \n\n[5 rows x 500 columns]"
     },
     "execution_count": 142,
     "metadata": {},
     "output_type": "execute_result"
    }
   ],
   "source": [
    "cols = ['Text']\n",
    "for i in list(multi_label_transform.classes_):     \n",
    "    cols.append(i)\n",
    "\n",
    "prepd_db = pd.DataFrame()\n",
    "\n",
    "prepd_db.loc[:, 'Text'] = model_db_clean.loc[:, 'Text']\n",
    "for i in range(0, y.shape[1]):\n",
    "        prepd_db.loc[:, i+1] = y[:, i]\n",
    "\n",
    "prepd_db.columns = cols\n",
    "prepd_db.drop([''], axis=1, inplace=True)\n",
    "prepd_db.head()"
   ]
  }
 ]
}