{
 "nbformat": 4,
 "nbformat_minor": 2,
 "metadata": {
  "language_info": {
   "name": "python",
   "codemirror_mode": {
    "name": "ipython",
    "version": 3
   },
   "version": "3.7.1-final"
  },
  "orig_nbformat": 2,
  "file_extension": ".py",
  "mimetype": "text/x-python",
  "name": "python",
  "npconvert_exporter": "python",
  "pygments_lexer": "ipython3",
  "version": 3,
  "kernelspec": {
   "name": "python3",
   "display_name": "Python 3"
  }
 },
 "cells": [
  {
   "cell_type": "code",
   "execution_count": 2,
   "metadata": {},
   "outputs": [],
   "source": [
    "import numpy\n",
    "import pandas as pd \n",
    "import nltk\n",
    "import string\n",
    "#from sklearn.model_selection import train_test_split"
   ]
  },
  {
   "cell_type": "code",
   "execution_count": 3,
   "metadata": {},
   "outputs": [
    {
     "data": {
      "text/html": "<div>\n<style scoped>\n    .dataframe tbody tr th:only-of-type {\n        vertical-align: middle;\n    }\n\n    .dataframe tbody tr th {\n        vertical-align: top;\n    }\n\n    .dataframe thead th {\n        text-align: right;\n    }\n</style>\n<table border=\"1\" class=\"dataframe\">\n  <thead>\n    <tr style=\"text-align: right;\">\n      <th></th>\n      <th>Unnamed: 0</th>\n      <th>Name</th>\n      <th>Url</th>\n      <th>Text</th>\n      <th>Tags</th>\n    </tr>\n  </thead>\n  <tbody>\n    <tr>\n      <td>0</td>\n      <td>0</td>\n      <td>Withering Under the White Gaze: The Hart Famil...</td>\n      <td>https://medium.com/@DeepGreenPhilly/withering-...</td>\n      <td>['[', 'Withering', ':', 'shrivel', ';', 'fade'...</td>\n      <td>['BlackLivesMatter', 'News']</td>\n    </tr>\n    <tr>\n      <td>1</td>\n      <td>0</td>\n      <td>If You Don’t Eliminate This Habit, You Will Ne...</td>\n      <td>https://medium.com/personal-growth/if-you-dont...</td>\n      <td>['“', 'Victorious', 'warriors', 'win', 'first'...</td>\n      <td>['Productivity', 'Leadership', 'Self Improveme...</td>\n    </tr>\n    <tr>\n      <td>2</td>\n      <td>0</td>\n      <td>Why Merchants Are Not Using Cryptocurrency</td>\n      <td>https://medium.com/rubius-inc/why-merchants-ar...</td>\n      <td>['The', 'greatest', 'challenge', 'facing', 'bl...</td>\n      <td>['Cryptocurrency', 'Ethereum']</td>\n    </tr>\n    <tr>\n      <td>3</td>\n      <td>0</td>\n      <td>Welcome Venkat Tangirala to the OpenSingularity</td>\n      <td>https://medium.com/skynetproject/welcome-venka...</td>\n      <td>['Venkat', 'Tangirala', 'top-notch', 'engineer...</td>\n      <td>['Leadership', 'Blockchain']</td>\n    </tr>\n    <tr>\n      <td>4</td>\n      <td>0</td>\n      <td>An Analysis of 10k 👏Claps on Medium</td>\n      <td>https://medium.com/tomyum/how-are-readers-ing-...</td>\n      <td>['This', 'follow', 'last', 'post', ':', 'Over'...</td>\n      <td>['Medium', 'Data', 'Design']</td>\n    </tr>\n  </tbody>\n</table>\n</div>",
      "text/plain": "   Unnamed: 0                                               Name  \\\n0           0  Withering Under the White Gaze: The Hart Famil...   \n1           0  If You Don’t Eliminate This Habit, You Will Ne...   \n2           0         Why Merchants Are Not Using Cryptocurrency   \n3           0    Welcome Venkat Tangirala to the OpenSingularity   \n4           0                An Analysis of 10k 👏Claps on Medium   \n\n                                                 Url  \\\n0  https://medium.com/@DeepGreenPhilly/withering-...   \n1  https://medium.com/personal-growth/if-you-dont...   \n2  https://medium.com/rubius-inc/why-merchants-ar...   \n3  https://medium.com/skynetproject/welcome-venka...   \n4  https://medium.com/tomyum/how-are-readers-ing-...   \n\n                                                Text  \\\n0  ['[', 'Withering', ':', 'shrivel', ';', 'fade'...   \n1  ['“', 'Victorious', 'warriors', 'win', 'first'...   \n2  ['The', 'greatest', 'challenge', 'facing', 'bl...   \n3  ['Venkat', 'Tangirala', 'top-notch', 'engineer...   \n4  ['This', 'follow', 'last', 'post', ':', 'Over'...   \n\n                                                Tags  \n0                       ['BlackLivesMatter', 'News']  \n1  ['Productivity', 'Leadership', 'Self Improveme...  \n2                     ['Cryptocurrency', 'Ethereum']  \n3                       ['Leadership', 'Blockchain']  \n4                       ['Medium', 'Data', 'Design']  "
     },
     "execution_count": 3,
     "metadata": {},
     "output_type": "execute_result"
    }
   ],
   "source": [
    "art_df = pd.read_csv('C:/Users/Powerhouse/Documents/GitHub/Project-High/article-database.csv')\n",
    "art_df.head()"
   ]
  },
  {
   "cell_type": "code",
   "execution_count": 4,
   "metadata": {},
   "outputs": [
    {
     "data": {
      "text/html": "<div>\n<style scoped>\n    .dataframe tbody tr th:only-of-type {\n        vertical-align: middle;\n    }\n\n    .dataframe tbody tr th {\n        vertical-align: top;\n    }\n\n    .dataframe thead th {\n        text-align: right;\n    }\n</style>\n<table border=\"1\" class=\"dataframe\">\n  <thead>\n    <tr style=\"text-align: right;\">\n      <th></th>\n      <th>Name</th>\n      <th>Url</th>\n      <th>Text</th>\n      <th>Tags</th>\n    </tr>\n  </thead>\n  <tbody>\n    <tr>\n      <td>0</td>\n      <td>Withering Under the White Gaze: The Hart Famil...</td>\n      <td>https://medium.com/@DeepGreenPhilly/withering-...</td>\n      <td>['[', 'Withering', ':', 'shrivel', ';', 'fade'...</td>\n      <td>['BlackLivesMatter', 'News']</td>\n    </tr>\n    <tr>\n      <td>1</td>\n      <td>If You Don’t Eliminate This Habit, You Will Ne...</td>\n      <td>https://medium.com/personal-growth/if-you-dont...</td>\n      <td>['“', 'Victorious', 'warriors', 'win', 'first'...</td>\n      <td>['Productivity', 'Leadership', 'Self Improveme...</td>\n    </tr>\n    <tr>\n      <td>2</td>\n      <td>Why Merchants Are Not Using Cryptocurrency</td>\n      <td>https://medium.com/rubius-inc/why-merchants-ar...</td>\n      <td>['The', 'greatest', 'challenge', 'facing', 'bl...</td>\n      <td>['Cryptocurrency', 'Ethereum']</td>\n    </tr>\n    <tr>\n      <td>3</td>\n      <td>Welcome Venkat Tangirala to the OpenSingularity</td>\n      <td>https://medium.com/skynetproject/welcome-venka...</td>\n      <td>['Venkat', 'Tangirala', 'top-notch', 'engineer...</td>\n      <td>['Leadership', 'Blockchain']</td>\n    </tr>\n    <tr>\n      <td>4</td>\n      <td>An Analysis of 10k 👏Claps on Medium</td>\n      <td>https://medium.com/tomyum/how-are-readers-ing-...</td>\n      <td>['This', 'follow', 'last', 'post', ':', 'Over'...</td>\n      <td>['Medium', 'Data', 'Design']</td>\n    </tr>\n  </tbody>\n</table>\n</div>",
      "text/plain": "                                                Name  \\\n0  Withering Under the White Gaze: The Hart Famil...   \n1  If You Don’t Eliminate This Habit, You Will Ne...   \n2         Why Merchants Are Not Using Cryptocurrency   \n3    Welcome Venkat Tangirala to the OpenSingularity   \n4                An Analysis of 10k 👏Claps on Medium   \n\n                                                 Url  \\\n0  https://medium.com/@DeepGreenPhilly/withering-...   \n1  https://medium.com/personal-growth/if-you-dont...   \n2  https://medium.com/rubius-inc/why-merchants-ar...   \n3  https://medium.com/skynetproject/welcome-venka...   \n4  https://medium.com/tomyum/how-are-readers-ing-...   \n\n                                                Text  \\\n0  ['[', 'Withering', ':', 'shrivel', ';', 'fade'...   \n1  ['“', 'Victorious', 'warriors', 'win', 'first'...   \n2  ['The', 'greatest', 'challenge', 'facing', 'bl...   \n3  ['Venkat', 'Tangirala', 'top-notch', 'engineer...   \n4  ['This', 'follow', 'last', 'post', ':', 'Over'...   \n\n                                                Tags  \n0                       ['BlackLivesMatter', 'News']  \n1  ['Productivity', 'Leadership', 'Self Improveme...  \n2                     ['Cryptocurrency', 'Ethereum']  \n3                       ['Leadership', 'Blockchain']  \n4                       ['Medium', 'Data', 'Design']  "
     },
     "execution_count": 4,
     "metadata": {},
     "output_type": "execute_result"
    }
   ],
   "source": [
    "art_df.drop([art_df.columns[0]], axis=1, inplace=True)\n",
    "art_df.head()"
   ]
  },
  {
   "cell_type": "code",
   "execution_count": 5,
   "metadata": {},
   "outputs": [
    {
     "data": {
      "text/plain": "['!',\n '\"',\n '#',\n '$',\n '%',\n '&',\n \"'\",\n '(',\n ')',\n '*',\n '+',\n ',',\n '-',\n '.',\n '/',\n ':',\n ';',\n '<',\n '=',\n '>',\n '?',\n '@',\n '[',\n '\\\\',\n ']',\n '^',\n '_',\n '`',\n '{',\n '|',\n '}',\n '~',\n '! ',\n '\" ',\n '# ',\n '$ ',\n '% ',\n '& ',\n \"' \",\n '( ',\n ') ',\n '* ',\n '+ ',\n ', ',\n '- ',\n '. ',\n '/ ',\n ': ',\n '; ',\n '< ',\n '= ',\n '> ',\n '? ',\n '@ ',\n '[ ',\n '\\\\ ',\n '] ',\n '^ ',\n '_ ',\n '` ',\n '{ ',\n '| ',\n '} ',\n '~ ']"
     },
     "execution_count": 5,
     "metadata": {},
     "output_type": "execute_result"
    }
   ],
   "source": [
    "puncts = list(string.punctuation)\n",
    "\n",
    "for p in range(0, len(puncts)):\n",
    "    puncts.append(puncts[p] + ' ')\n",
    "\n",
    "puncts"
   ]
  },
  {
   "cell_type": "code",
   "execution_count": 10,
   "metadata": {},
   "outputs": [
    {
     "name": "stdout",
     "output_type": "stream",
     "text": "['forced', 'thing', 'Pinocchio', 'vulnerable', 'African', 'clearly', 'observing', 'viewed', 'But', 'empty', 'classic', 'aspects', 'allows', '12', 'lend', 'possibility', 'perpetuate', 'inside', 'gunning', 'deadly', 'influence', 'settler', 'Regardless', 'tiny', 'When', 'conviction', 'cancer', 'origin', 'summed', 'desires', 'broker', 'qualified', 'experiences', '45', 'officers', 'whose', 'kids', 'support', 'charged', 'instincts', 'skin', 'comparison', 'people', 'In', 'gaze', 'sign', 'coverage', 'every', 'might', 'Anthony', 'Hungarian', '90', 'buyer', 'alcohol', '—', 'attention', 'This', 'beings', 'system', 'towards', 'access', 'Despite', 'The', 'make', 'mythical', 'present', 'perfect', 'crash', 'unarmed', 'freshness', 'ties', 'know', 'either', 'general', '15', 'similar', 'next', 'known', 'Black', 'well', 'referring', 'comments', 'made', 'struggling', 'dismantle', 'abash', 'terrified', 'hug', 'religious', 'cope', 'guise', 'With', 'list', 'officer', 'shot', 'coerced', 'stronger', 'toddler', 'transforms', 'starved', 'receiving', 'plucking', 'supremacy', 'looking', 'case', 'appropriate', 'bludgeon', 'predator', 'racial', 'showed', 'Looking', 'goal', 'obliterate', 'carrying', 'home', 'liberal', 'We', 'truly', 'life', 'literally', 'especially', 'supporting', 'perspective', 'good', 'days', 'Turpins', 'Others', 'physical', 'suffered', 'probably', 'brilliantly', 'Hannah', 'shackled', 'forms', 'adopted', 'goes', 'approached', 'whiteness', 'much', 'withering', 'Sarah', 'potential', 'tensions', 'impunity', 'encouraged', 'status', 'based', 'right', 'photo', 'Unlike', 'ago', 'systems', 'mire', 'supporter', 'appear', 'fear', 'entertain', 'European', 'poised', 'elevating', 'continued', 'selfless', 'must', 'Those', 'ethnicity', 'Michael', 'string', 'Native', 'weighed', 'reinforcing', 'savior', 'sees', 'terms', 'vigor…to', 'lens', 'likely', 'begging', 'challenging', 'negated', 'sure', 'fuzzy', 'happening', 'One', 'given', 'international', 'least', 'murder', 'keep', 'bravely', 'parts', 'main', 'unite', 'without', '5', 'living', 'last', 'row', 'real', 'elevation', 'reconciliation', 'rising', 'grotesque', 'color', 'images', 'response', 'newborn', 'downplayed', 'found', 'alone', 'narrative', 'created', '’', 'force', 'feelings', 'poor', 'affect', 'often', 'save', 'objects', 'feel', 'Ramsey', 'identify', 'filters', 'de', 'cop', 'Pacific', 'different', 'scathing', 'Last', 'wooden', 'denote', 'Jennifer', 'familiar', 'viral', 'soaking', 'back', 'age…cause', 'cliff', 'scenario', 'ghastly', 'easily', 'emotionally', 'destruction', 'unfulfilled', 'To', 'holding', 'comprehend', 'handful', 'domination', 'noble', 'end', 'news', 'perform', 'various', 'tears', 'eyes', 'tension', 'drive', 'harmfully…to', 'salacious', 'Free', 'neglect', 'function', 'image', 'barricade', '4', 'front', 'affordably', '16', 'perpetrated', '2014', 'alarmed', 'centers', 'looked', 'words', 'bloom', 'society', 'heightened', 'five', 'happen', 'smoked', 'knew', 'glassy', 'oppression', 'meaning', 'released', 'police', 'someone', 'stats', 'hurled', 'tragedy', 'abuse', 'myth', 'individual', 'proof', 'years', 'foul', 'Because', 'healthcare', 'carefully', 'however', 'mental', 'stare', 'culture', 'French', 'among', 'space', 'monkeys', 'chose', 'avoiding', 'able', 'Most', 'interprets', 'evening', 'would', 'countries', 'indeed', '”', 'long', 'enslavement', 'uncomfortable', 'mind', 'embodied', 'sinister', 'benefit', 'old', 'difficult', 'philosophy', 'holes', 'If', 'splashed', 'never', 'examine', 'killers', 'forthcoming', 'guns', 'approaching', 'secrecy', 'beginning', 'doubt', 'disabilities.', 'filed', 'racist', 'supported', 'Sierra', 'saying', 'song', 'language', 'received', 'may', 'heavy', 'rushing', 'lbs', 'weights', 'handled', 'decided', 'starving', 'Hugs', 'sympathy', 'Any', 'person', 'rescuing', 'automatically', 'colonized', 'upon', 'cruelty', 'went', '60', 'New', 'door', 'values', 'propaganda', 'Africans', 'including', 'asking', 'abused', 'Illusions', 'submission', 'health', 'heights', 'protest', 'specific', 'JonBenet', 'gazed', 'says', 'deaths', 'play', 'SUV', 'banner', 'closing', 'impossible', 'severe', 'What', 'favors', 'Whiteness', 'reinforces', 'hugging', 'struggled', 'clue', 'age', 'lose', 'slur', 'first', 'facto', 'disappearance', '“', 'compute', 'human', 'away', 'pernicious', 'possible', 'warm', 'near', 'midst', 'massive', 'White', 'After', 'Written', 'Devonte', 'allowed', 'siblings', 'three', 'knowledge', 'And', 'mother', 'pumping', 'ceased', 'possibly', 'night', 'abusers', 'view', '1', 'Irish', 'gives', 'Days', 'giving', 'used', 'revealed', 'distance', 'love', 'particular', 'bands', 'flowery', 'examined', 'surrounding', 'children', 'Toni', 'intervening', 'phenomenon', 'concerns', 'one', 'Tears', 'ethnic', 'Latinx', 'paraded', 'want', 'justify', 'His', 'non-white', 'see', 'violent', 'There', 'They', 'example', 'partner', 'parents', 'It', 'getting', 'colonization', 'twisted', 'entered', 'started', 'decay', 'categorizes', 'shrivel', 'though', 'glance', 'face', 'lives', 'react', 'menagerie', 'intentions', 'consumed', 'CPS', 'illusion', 'strict', 'mortgage', 'less', 'By', 'Fairy', 'white', 'Brown', 'progressive', 'Now', 'need', 'imagined', 'worthy', 'removed', 'protections', 'act', 'estimated', 'Yes', 'focuses', 'As', 'behaviors', 'many', 'time', 'centering', 'recovered', 'embrace', 'Darren', 'heartwarming', 'skeptical', 'family', 'deserve', 'strike', 'clear', 'fuck', 'shit', 'vain', 'youth', 'quite', 'novelist', 'troubled', 'Wilson', 'cases', 'body', 'power', ', \"', 'driving', 'reality', 'stood', 'picture', 'tradition', 'extended', 'Age', 'death', 'operate', 'circumstances', 'transformation', 'murders', 'drugs', 'crystal', 'turning', 'kept', 'appears', 'Withering', 'Blue', 'challenge', 'These', 'I', 'core', 'fully', 'seeing', 'find', 'product', 'names', 'foreseen', 'differences', 'learned', 'day', 'show', 'interaction', 'tool', 'cultivated', 'lyrics', 'illness', 'sweater', 'validation', 'He', 'inherently', 'site', 'nefarious', 'German', 'form', 'nowhere', 'also', 'world', 'refusing', 'ocean', 'Caylee', 'Europeans', 'Less', 'large', 'Morrison', 'downtrodden', 'allegations', 'knowing', 'systematic', 'president', 'across', 'Here', 'perhaps', 'photographed', 'illusions', 'following', 'like', 'murdered', 'media', 'hand', 'fade', 'trained', 'Hart', 'peoples', 'signs', 'Their', 'supersede', 'rumors', 'incredibly', 'trembled', 'gone', 'colonial', 'neighbor', 'even', 'open', 'boy', 'experience.', 'colonialism', 'Not', 'scholar', 'favorite', 'driver', 'privilege', 'activism', 'depth', 'could', 'cameras', 'resorting', 'later', 'food', 'starve', 'imminent', 'muck', 'women', 'At', 'latter', 'something', 'reptile', '\", ', '—to', 'missing']\n"
    }
   ],
   "source": [
    "x = art_df.Text.loc[0].split('\\'')\n",
    "\n",
    "# for i in range(0, len(x)):\n",
    "#     print(x[i])\n",
    "# print(x[:20])\n",
    "print(list(set(x)-set(puncts)))"
   ]
  },
  {
   "cell_type": "code",
   "execution_count": null,
   "metadata": {},
   "outputs": [],
   "source": []
  }
 ]
}