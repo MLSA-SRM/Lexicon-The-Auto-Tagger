{
 "cells": [
  {
   "cell_type": "code",
   "execution_count": 1,
   "metadata": {},
   "outputs": [],
   "source": [
    "import numpy as np\n",
    "import pandas as pd\n",
    "import matplotlib.pyplot as plt\n",
    "import seaborn as sns; sns.set()"
   ]
  },
  {
   "cell_type": "code",
   "execution_count": 3,
   "metadata": {},
   "outputs": [
    {
     "name": "stderr",
     "output_type": "stream",
     "text": "C:\\Program Files\\Python37\\lib\\site-packages\\IPython\\core\\interactiveshell.py:3044: DtypeWarning: Columns (5) have mixed types. Specify dtype option on import or set low_memory=False.\n  interactivity=interactivity, compiler=compiler, result=result)\n"
    },
    {
     "data": {
      "text/html": "<div>\n<style scoped>\n    .dataframe tbody tr th:only-of-type {\n        vertical-align: middle;\n    }\n\n    .dataframe tbody tr th {\n        vertical-align: top;\n    }\n\n    .dataframe thead th {\n        text-align: right;\n    }\n</style>\n<table border=\"1\" class=\"dataframe\">\n  <thead>\n    <tr style=\"text-align: right;\">\n      <th></th>\n      <th>Unnamed: 0</th>\n      <th>Title</th>\n      <th>Subtitle</th>\n      <th>Image</th>\n      <th>Author</th>\n      <th>Publication</th>\n      <th>Year</th>\n      <th>Month</th>\n      <th>Day</th>\n      <th>Reading_Time</th>\n      <th>...</th>\n      <th>Tag_travel</th>\n      <th>Tag_trump</th>\n      <th>Tag_ux</th>\n      <th>Tag_venture-capital</th>\n      <th>Tag_web-design</th>\n      <th>Tag_web-development</th>\n      <th>Tag_women</th>\n      <th>Tag_wordpress</th>\n      <th>Tag_work</th>\n      <th>Tag_writing</th>\n    </tr>\n  </thead>\n  <tbody>\n    <tr>\n      <td>0</td>\n      <td>2</td>\n      <td>Online Animation: Mixamo vs Norah AI</td>\n      <td>Online animations tools provide game designers...</td>\n      <td>1</td>\n      <td>Emma Laurent</td>\n      <td>NaN</td>\n      <td>2017</td>\n      <td>8</td>\n      <td>1</td>\n      <td>5</td>\n      <td>...</td>\n      <td>0</td>\n      <td>0</td>\n      <td>0</td>\n      <td>0</td>\n      <td>0</td>\n      <td>0</td>\n      <td>0</td>\n      <td>0</td>\n      <td>0</td>\n      <td>0</td>\n    </tr>\n    <tr>\n      <td>1</td>\n      <td>5</td>\n      <td>A.I. ?</td>\n      <td>NaN</td>\n      <td>0</td>\n      <td>Sanparith Marukatat</td>\n      <td>NaN</td>\n      <td>2017</td>\n      <td>8</td>\n      <td>1</td>\n      <td>2</td>\n      <td>...</td>\n      <td>0</td>\n      <td>0</td>\n      <td>0</td>\n      <td>0</td>\n      <td>0</td>\n      <td>0</td>\n      <td>0</td>\n      <td>0</td>\n      <td>0</td>\n      <td>0</td>\n    </tr>\n    <tr>\n      <td>2</td>\n      <td>11</td>\n      <td>Futures of AI, Friendly AI?</td>\n      <td>From Physics of the Future: How Science Will S...</td>\n      <td>1</td>\n      <td>Z</td>\n      <td>NaN</td>\n      <td>2017</td>\n      <td>8</td>\n      <td>1</td>\n      <td>3</td>\n      <td>...</td>\n      <td>0</td>\n      <td>0</td>\n      <td>0</td>\n      <td>0</td>\n      <td>0</td>\n      <td>0</td>\n      <td>0</td>\n      <td>0</td>\n      <td>0</td>\n      <td>0</td>\n    </tr>\n    <tr>\n      <td>3</td>\n      <td>12</td>\n      <td>The Value Generated through AI led Mindfulness</td>\n      <td>A true product co-created by the Millennials</td>\n      <td>1</td>\n      <td>Emiko Sawaguchi</td>\n      <td>MILLENNIALSTIMES</td>\n      <td>2017</td>\n      <td>8</td>\n      <td>1</td>\n      <td>5</td>\n      <td>...</td>\n      <td>0</td>\n      <td>0</td>\n      <td>0</td>\n      <td>0</td>\n      <td>0</td>\n      <td>0</td>\n      <td>0</td>\n      <td>0</td>\n      <td>0</td>\n      <td>0</td>\n    </tr>\n    <tr>\n      <td>4</td>\n      <td>17</td>\n      <td>Os Melhores Links de JulhoCmeras Vintage, Goog...</td>\n      <td>mas pera a?</td>\n      <td>1</td>\n      <td>Giovani Ferreira</td>\n      <td>NEW ORDER</td>\n      <td>2017</td>\n      <td>8</td>\n      <td>1</td>\n      <td>3</td>\n      <td>...</td>\n      <td>0</td>\n      <td>0</td>\n      <td>0</td>\n      <td>0</td>\n      <td>0</td>\n      <td>0</td>\n      <td>0</td>\n      <td>0</td>\n      <td>0</td>\n      <td>0</td>\n    </tr>\n  </tbody>\n</table>\n<p>5 rows × 108 columns</p>\n</div>",
      "text/plain": "   Unnamed: 0                                              Title  \\\n0           2               Online Animation: Mixamo vs Norah AI   \n1           5                                             A.I. ?   \n2          11                        Futures of AI, Friendly AI?   \n3          12     The Value Generated through AI led Mindfulness   \n4          17  Os Melhores Links de JulhoCmeras Vintage, Goog...   \n\n                                            Subtitle  Image  \\\n0  Online animations tools provide game designers...      1   \n1                                                NaN      0   \n2  From Physics of the Future: How Science Will S...      1   \n3       A true product co-created by the Millennials      1   \n4                                        mas pera a?      1   \n\n                Author       Publication  Year  Month  Day  Reading_Time  ...  \\\n0         Emma Laurent               NaN  2017      8    1             5  ...   \n1  Sanparith Marukatat               NaN  2017      8    1             2  ...   \n2                   Z                NaN  2017      8    1             3  ...   \n3      Emiko Sawaguchi  MILLENNIALSTIMES  2017      8    1             5  ...   \n4     Giovani Ferreira         NEW ORDER  2017      8    1             3  ...   \n\n   Tag_travel Tag_trump Tag_ux  Tag_venture-capital  Tag_web-design  \\\n0           0         0      0                    0               0   \n1           0         0      0                    0               0   \n2           0         0      0                    0               0   \n3           0         0      0                    0               0   \n4           0         0      0                    0               0   \n\n   Tag_web-development  Tag_women  Tag_wordpress  Tag_work  Tag_writing  \n0                    0          0              0         0            0  \n1                    0          0              0         0            0  \n2                    0          0              0         0            0  \n3                    0          0              0         0            0  \n4                    0          0              0         0            0  \n\n[5 rows x 108 columns]"
     },
     "execution_count": 3,
     "metadata": {},
     "output_type": "execute_result"
    }
   ],
   "source": [
    "df = pd.read_csv('Medium_Clean.csv')\n",
    "df.head()"
   ]
  },
  {
   "cell_type": "code",
   "execution_count": 4,
   "metadata": {},
   "outputs": [
    {
     "data": {
      "text/html": "<div>\n<style scoped>\n    .dataframe tbody tr th:only-of-type {\n        vertical-align: middle;\n    }\n\n    .dataframe tbody tr th {\n        vertical-align: top;\n    }\n\n    .dataframe thead th {\n        text-align: right;\n    }\n</style>\n<table border=\"1\" class=\"dataframe\">\n  <thead>\n    <tr style=\"text-align: right;\">\n      <th></th>\n      <th>Unnamed: 0</th>\n      <th>Title</th>\n      <th>Tag_ai</th>\n      <th>Tag_android</th>\n      <th>Tag_apple</th>\n      <th>Tag_architecture</th>\n      <th>Tag_art</th>\n      <th>Tag_artificial-intelligence</th>\n      <th>Tag_big-data</th>\n      <th>Tag_bitcoin</th>\n      <th>...</th>\n      <th>Tag_travel</th>\n      <th>Tag_trump</th>\n      <th>Tag_ux</th>\n      <th>Tag_venture-capital</th>\n      <th>Tag_web-design</th>\n      <th>Tag_web-development</th>\n      <th>Tag_women</th>\n      <th>Tag_wordpress</th>\n      <th>Tag_work</th>\n      <th>Tag_writing</th>\n    </tr>\n  </thead>\n  <tbody>\n    <tr>\n      <td>0</td>\n      <td>2</td>\n      <td>Online Animation: Mixamo vs Norah AI</td>\n      <td>1</td>\n      <td>0</td>\n      <td>0</td>\n      <td>0</td>\n      <td>0</td>\n      <td>0</td>\n      <td>0</td>\n      <td>0</td>\n      <td>...</td>\n      <td>0</td>\n      <td>0</td>\n      <td>0</td>\n      <td>0</td>\n      <td>0</td>\n      <td>0</td>\n      <td>0</td>\n      <td>0</td>\n      <td>0</td>\n      <td>0</td>\n    </tr>\n    <tr>\n      <td>1</td>\n      <td>5</td>\n      <td>A.I. ?</td>\n      <td>1</td>\n      <td>0</td>\n      <td>0</td>\n      <td>0</td>\n      <td>0</td>\n      <td>0</td>\n      <td>0</td>\n      <td>0</td>\n      <td>...</td>\n      <td>0</td>\n      <td>0</td>\n      <td>0</td>\n      <td>0</td>\n      <td>0</td>\n      <td>0</td>\n      <td>0</td>\n      <td>0</td>\n      <td>0</td>\n      <td>0</td>\n    </tr>\n    <tr>\n      <td>2</td>\n      <td>11</td>\n      <td>Futures of AI, Friendly AI?</td>\n      <td>1</td>\n      <td>0</td>\n      <td>0</td>\n      <td>0</td>\n      <td>0</td>\n      <td>0</td>\n      <td>0</td>\n      <td>0</td>\n      <td>...</td>\n      <td>0</td>\n      <td>0</td>\n      <td>0</td>\n      <td>0</td>\n      <td>0</td>\n      <td>0</td>\n      <td>0</td>\n      <td>0</td>\n      <td>0</td>\n      <td>0</td>\n    </tr>\n    <tr>\n      <td>3</td>\n      <td>12</td>\n      <td>The Value Generated through AI led Mindfulness</td>\n      <td>1</td>\n      <td>0</td>\n      <td>0</td>\n      <td>0</td>\n      <td>0</td>\n      <td>0</td>\n      <td>0</td>\n      <td>0</td>\n      <td>...</td>\n      <td>0</td>\n      <td>0</td>\n      <td>0</td>\n      <td>0</td>\n      <td>0</td>\n      <td>0</td>\n      <td>0</td>\n      <td>0</td>\n      <td>0</td>\n      <td>0</td>\n    </tr>\n    <tr>\n      <td>4</td>\n      <td>17</td>\n      <td>Os Melhores Links de JulhoCmeras Vintage, Goog...</td>\n      <td>1</td>\n      <td>0</td>\n      <td>0</td>\n      <td>0</td>\n      <td>0</td>\n      <td>0</td>\n      <td>0</td>\n      <td>0</td>\n      <td>...</td>\n      <td>0</td>\n      <td>0</td>\n      <td>0</td>\n      <td>0</td>\n      <td>0</td>\n      <td>0</td>\n      <td>0</td>\n      <td>0</td>\n      <td>0</td>\n      <td>0</td>\n    </tr>\n  </tbody>\n</table>\n<p>5 rows × 97 columns</p>\n</div>",
      "text/plain": "   Unnamed: 0                                              Title  Tag_ai  \\\n0           2               Online Animation: Mixamo vs Norah AI       1   \n1           5                                             A.I. ?       1   \n2          11                        Futures of AI, Friendly AI?       1   \n3          12     The Value Generated through AI led Mindfulness       1   \n4          17  Os Melhores Links de JulhoCmeras Vintage, Goog...       1   \n\n   Tag_android  Tag_apple  Tag_architecture  Tag_art  \\\n0            0          0                 0        0   \n1            0          0                 0        0   \n2            0          0                 0        0   \n3            0          0                 0        0   \n4            0          0                 0        0   \n\n   Tag_artificial-intelligence  Tag_big-data  Tag_bitcoin  ...  Tag_travel  \\\n0                            0             0            0  ...           0   \n1                            0             0            0  ...           0   \n2                            0             0            0  ...           0   \n3                            0             0            0  ...           0   \n4                            0             0            0  ...           0   \n\n   Tag_trump  Tag_ux  Tag_venture-capital  Tag_web-design  \\\n0          0       0                    0               0   \n1          0       0                    0               0   \n2          0       0                    0               0   \n3          0       0                    0               0   \n4          0       0                    0               0   \n\n   Tag_web-development  Tag_women  Tag_wordpress  Tag_work  Tag_writing  \n0                    0          0              0         0            0  \n1                    0          0              0         0            0  \n2                    0          0              0         0            0  \n3                    0          0              0         0            0  \n4                    0          0              0         0            0  \n\n[5 rows x 97 columns]"
     },
     "execution_count": 4,
     "metadata": {},
     "output_type": "execute_result"
    }
   ],
   "source": [
    "__df = df.drop(df.columns[2:13], axis=1)\n",
    "__df.head()"
   ]
  },
  {
   "cell_type": "code",
   "execution_count": 5,
   "metadata": {},
   "outputs": [
    {
     "name": "stdout",
     "output_type": "stream",
     "text": "0                               Tag_ai\n1                               Tag_ai\n2                               Tag_ai\n3                               Tag_ai\n4                               Tag_ai\n                      ...             \n1391028    Tag_artificial-intelligence\n1391029                      Tag_apple\n1391030                   Tag_blogging\n1391031                   Tag_blogging\n1391032                   Tag_blogging\nLength: 1391033, dtype: object\n"
    }
   ],
   "source": [
    "def rev_onehot(row):\n",
    "    for c in __df.columns[2:]:\n",
    "        if row[c]==1:\n",
    "            return c\n",
    "\n",
    "tagged_list = __df.apply(rev_onehot, axis=1)\n",
    "print(tagged_list)"
   ]
  },
  {
   "cell_type": "code",
   "execution_count": 6,
   "metadata": {},
   "outputs": [
    {
     "data": {
      "text/html": "<div>\n<style scoped>\n    .dataframe tbody tr th:only-of-type {\n        vertical-align: middle;\n    }\n\n    .dataframe tbody tr th {\n        vertical-align: top;\n    }\n\n    .dataframe thead th {\n        text-align: right;\n    }\n</style>\n<table border=\"1\" class=\"dataframe\">\n  <thead>\n    <tr style=\"text-align: right;\">\n      <th></th>\n      <th>Url</th>\n      <th>Claps</th>\n      <th>Tag</th>\n    </tr>\n  </thead>\n  <tbody>\n    <tr>\n      <td>0</td>\n      <td>https://medium.com/@laurentemma/online-animati...</td>\n      <td>12.0</td>\n      <td>Tag_ai</td>\n    </tr>\n    <tr>\n      <td>1</td>\n      <td>https://medium.com/@sanparithmarukatat/a-i-%E0...</td>\n      <td>11.0</td>\n      <td>Tag_ai</td>\n    </tr>\n    <tr>\n      <td>2</td>\n      <td>https://medium.com/@otherside914/futures-of-ai...</td>\n      <td>1.0</td>\n      <td>Tag_ai</td>\n    </tr>\n    <tr>\n      <td>3</td>\n      <td>https://millennials-times.com/creativeflower-e...</td>\n      <td>4.0</td>\n      <td>Tag_ai</td>\n    </tr>\n    <tr>\n      <td>4</td>\n      <td>https://medium.com/neworder/os-melhores-links-...</td>\n      <td>56.0</td>\n      <td>Tag_ai</td>\n    </tr>\n  </tbody>\n</table>\n</div>",
      "text/plain": "                                                 Url  Claps     Tag\n0  https://medium.com/@laurentemma/online-animati...   12.0  Tag_ai\n1  https://medium.com/@sanparithmarukatat/a-i-%E0...   11.0  Tag_ai\n2  https://medium.com/@otherside914/futures-of-ai...    1.0  Tag_ai\n3  https://millennials-times.com/creativeflower-e...    4.0  Tag_ai\n4  https://medium.com/neworder/os-melhores-links-...   56.0  Tag_ai"
     },
     "execution_count": 6,
     "metadata": {},
     "output_type": "execute_result"
    }
   ],
   "source": [
    "main_df = pd.DataFrame(columns=['Url', 'Claps', 'Tag'])\n",
    "main_df['Url'] = df['url']\n",
    "main_df['Claps'] = df['Claps']\n",
    "main_df['Tag'] = tagged_list\n",
    "main_df.head()"
   ]
  },
  {
   "cell_type": "code",
   "execution_count": 6,
   "metadata": {},
   "outputs": [],
   "source": [
    "#main_df.to_csv('Medium-Clean-Reduced.csv')"
   ]
  },
  {
   "cell_type": "code",
   "execution_count": 10,
   "metadata": {},
   "outputs": [
    {
     "data": {
      "text/html": "<div>\n<style scoped>\n    .dataframe tbody tr th:only-of-type {\n        vertical-align: middle;\n    }\n\n    .dataframe tbody tr th {\n        vertical-align: top;\n    }\n\n    .dataframe thead th {\n        text-align: right;\n    }\n</style>\n<table border=\"1\" class=\"dataframe\">\n  <thead>\n    <tr style=\"text-align: right;\">\n      <th></th>\n      <th>Tag</th>\n      <th>Url</th>\n      <th>Claps</th>\n    </tr>\n  </thead>\n  <tbody>\n    <tr>\n      <td>0</td>\n      <td>Tag_ai</td>\n      <td>https://medium.com/@kaistinchcombe/decentraliz...</td>\n      <td>53000.0</td>\n    </tr>\n    <tr>\n      <td>1</td>\n      <td>Tag_ai</td>\n      <td>https://medium.com/@theanythingapp/fast-forwar...</td>\n      <td>42000.0</td>\n    </tr>\n    <tr>\n      <td>2</td>\n      <td>Tag_ai</td>\n      <td>https://medium.com/predict/are-programmers-hea...</td>\n      <td>23000.0</td>\n    </tr>\n    <tr>\n      <td>3</td>\n      <td>Tag_ai</td>\n      <td>https://medium.com/swlh/chatbots-were-the-next...</td>\n      <td>19200.0</td>\n    </tr>\n    <tr>\n      <td>4</td>\n      <td>Tag_ai</td>\n      <td>https://medium.com/@WisewolfFund_io/unique-tre...</td>\n      <td>18300.0</td>\n    </tr>\n    <tr>\n      <td>...</td>\n      <td>...</td>\n      <td>...</td>\n      <td>...</td>\n    </tr>\n    <tr>\n      <td>18995</td>\n      <td>Tag_writing</td>\n      <td>https://writingcooperative.com/one-reason-why-...</td>\n      <td>544.0</td>\n    </tr>\n    <tr>\n      <td>18996</td>\n      <td>Tag_writing</td>\n      <td>https://writingcooperative.com/simple-secrets-...</td>\n      <td>544.0</td>\n    </tr>\n    <tr>\n      <td>18997</td>\n      <td>Tag_writing</td>\n      <td>https://medium.com/dharma-dispatch/the-thrivin...</td>\n      <td>544.0</td>\n    </tr>\n    <tr>\n      <td>18998</td>\n      <td>Tag_writing</td>\n      <td>https://medium.com/chalkboard/wrinkles-bb198e2...</td>\n      <td>541.0</td>\n    </tr>\n    <tr>\n      <td>18999</td>\n      <td>Tag_writing</td>\n      <td>https://writingcooperative.com/those-who-can-w...</td>\n      <td>533.0</td>\n    </tr>\n  </tbody>\n</table>\n<p>19000 rows × 3 columns</p>\n</div>",
      "text/plain": "               Tag                                                Url    Claps\n0           Tag_ai  https://medium.com/@kaistinchcombe/decentraliz...  53000.0\n1           Tag_ai  https://medium.com/@theanythingapp/fast-forwar...  42000.0\n2           Tag_ai  https://medium.com/predict/are-programmers-hea...  23000.0\n3           Tag_ai  https://medium.com/swlh/chatbots-were-the-next...  19200.0\n4           Tag_ai  https://medium.com/@WisewolfFund_io/unique-tre...  18300.0\n...            ...                                                ...      ...\n18995  Tag_writing  https://writingcooperative.com/one-reason-why-...    544.0\n18996  Tag_writing  https://writingcooperative.com/simple-secrets-...    544.0\n18997  Tag_writing  https://medium.com/dharma-dispatch/the-thrivin...    544.0\n18998  Tag_writing  https://medium.com/chalkboard/wrinkles-bb198e2...    541.0\n18999  Tag_writing  https://writingcooperative.com/those-who-can-w...    533.0\n\n[19000 rows x 3 columns]"
     },
     "execution_count": 10,
     "metadata": {},
     "output_type": "execute_result"
    }
   ],
   "source": [
    "test_df = main_df.set_index('Url').groupby('Tag')['Claps'].nlargest(200).reset_index()\n",
    "test_df"
   ]
  },
  {
   "cell_type": "code",
   "execution_count": 11,
   "metadata": {},
   "outputs": [
    {
     "data": {
      "text/html": "<div>\n<style scoped>\n    .dataframe tbody tr th:only-of-type {\n        vertical-align: middle;\n    }\n\n    .dataframe tbody tr th {\n        vertical-align: top;\n    }\n\n    .dataframe thead th {\n        text-align: right;\n    }\n</style>\n<table border=\"1\" class=\"dataframe\">\n  <thead>\n    <tr style=\"text-align: right;\">\n      <th></th>\n      <th>Url</th>\n      <th>Claps</th>\n    </tr>\n    <tr>\n      <th>Tag</th>\n      <th></th>\n      <th></th>\n    </tr>\n  </thead>\n  <tbody>\n    <tr>\n      <td>Tag_ai</td>\n      <td>200</td>\n      <td>200</td>\n    </tr>\n    <tr>\n      <td>Tag_android</td>\n      <td>200</td>\n      <td>200</td>\n    </tr>\n    <tr>\n      <td>Tag_apple</td>\n      <td>200</td>\n      <td>200</td>\n    </tr>\n    <tr>\n      <td>Tag_architecture</td>\n      <td>200</td>\n      <td>200</td>\n    </tr>\n    <tr>\n      <td>Tag_art</td>\n      <td>200</td>\n      <td>200</td>\n    </tr>\n    <tr>\n      <td>...</td>\n      <td>...</td>\n      <td>...</td>\n    </tr>\n    <tr>\n      <td>Tag_web-development</td>\n      <td>200</td>\n      <td>200</td>\n    </tr>\n    <tr>\n      <td>Tag_women</td>\n      <td>200</td>\n      <td>200</td>\n    </tr>\n    <tr>\n      <td>Tag_wordpress</td>\n      <td>200</td>\n      <td>200</td>\n    </tr>\n    <tr>\n      <td>Tag_work</td>\n      <td>200</td>\n      <td>200</td>\n    </tr>\n    <tr>\n      <td>Tag_writing</td>\n      <td>200</td>\n      <td>200</td>\n    </tr>\n  </tbody>\n</table>\n<p>95 rows × 2 columns</p>\n</div>",
      "text/plain": "                     Url  Claps\nTag                            \nTag_ai               200    200\nTag_android          200    200\nTag_apple            200    200\nTag_architecture     200    200\nTag_art              200    200\n...                  ...    ...\nTag_web-development  200    200\nTag_women            200    200\nTag_wordpress        200    200\nTag_work             200    200\nTag_writing          200    200\n\n[95 rows x 2 columns]"
     },
     "execution_count": 11,
     "metadata": {},
     "output_type": "execute_result"
    }
   ],
   "source": [
    "test_df.groupby('Tag').count()"
   ]
  },
  {
   "cell_type": "code",
   "execution_count": 12,
   "metadata": {},
   "outputs": [
    {
     "data": {
      "text/html": "<div>\n<style scoped>\n    .dataframe tbody tr th:only-of-type {\n        vertical-align: middle;\n    }\n\n    .dataframe tbody tr th {\n        vertical-align: top;\n    }\n\n    .dataframe thead th {\n        text-align: right;\n    }\n</style>\n<table border=\"1\" class=\"dataframe\">\n  <thead>\n    <tr style=\"text-align: right;\">\n      <th></th>\n      <th>Tag</th>\n      <th>Url</th>\n      <th>Claps</th>\n    </tr>\n  </thead>\n  <tbody>\n    <tr>\n      <td>0</td>\n      <td>Tag_poetry</td>\n      <td>https://medium.com/@elektra.sunn/cheshire-moon...</td>\n      <td>1300.0</td>\n    </tr>\n    <tr>\n      <td>1</td>\n      <td>Tag_marketing</td>\n      <td>https://medium.com/@nicolascole77/if-youre-doi...</td>\n      <td>1800.0</td>\n    </tr>\n    <tr>\n      <td>2</td>\n      <td>Tag_travel</td>\n      <td>https://medium.com/@garrettgee/the-bucket-list...</td>\n      <td>1200.0</td>\n    </tr>\n    <tr>\n      <td>3</td>\n      <td>Tag_web-design</td>\n      <td>https://medium.com/backticks-tildes/building-a...</td>\n      <td>437.0</td>\n    </tr>\n    <tr>\n      <td>4</td>\n      <td>Tag_relationships</td>\n      <td>https://medium.com/@krisgage/when-theyre-alrea...</td>\n      <td>1800.0</td>\n    </tr>\n    <tr>\n      <td>...</td>\n      <td>...</td>\n      <td>...</td>\n      <td>...</td>\n    </tr>\n    <tr>\n      <td>18995</td>\n      <td>Tag_education</td>\n      <td>https://hackernoon.com/why-i-like-coding-as-a-...</td>\n      <td>2900.0</td>\n    </tr>\n    <tr>\n      <td>18996</td>\n      <td>Tag_blog</td>\n      <td>https://medium.com/the-post-grad-survival-guid...</td>\n      <td>284.0</td>\n    </tr>\n    <tr>\n      <td>18997</td>\n      <td>Tag_programming</td>\n      <td>https://medium.freecodecamp.org/the-main-pilla...</td>\n      <td>15400.0</td>\n    </tr>\n    <tr>\n      <td>18998</td>\n      <td>Tag_happiness</td>\n      <td>https://medium.com/@krisgage/10-things-you-did...</td>\n      <td>2400.0</td>\n    </tr>\n    <tr>\n      <td>18999</td>\n      <td>Tag_startup</td>\n      <td>https://medium.com/@eugenesanu/7-stages-of-use...</td>\n      <td>1800.0</td>\n    </tr>\n  </tbody>\n</table>\n<p>19000 rows × 3 columns</p>\n</div>",
      "text/plain": "                     Tag                                                Url  \\\n0             Tag_poetry  https://medium.com/@elektra.sunn/cheshire-moon...   \n1          Tag_marketing  https://medium.com/@nicolascole77/if-youre-doi...   \n2             Tag_travel  https://medium.com/@garrettgee/the-bucket-list...   \n3         Tag_web-design  https://medium.com/backticks-tildes/building-a...   \n4      Tag_relationships  https://medium.com/@krisgage/when-theyre-alrea...   \n...                  ...                                                ...   \n18995      Tag_education  https://hackernoon.com/why-i-like-coding-as-a-...   \n18996           Tag_blog  https://medium.com/the-post-grad-survival-guid...   \n18997    Tag_programming  https://medium.freecodecamp.org/the-main-pilla...   \n18998      Tag_happiness  https://medium.com/@krisgage/10-things-you-did...   \n18999        Tag_startup  https://medium.com/@eugenesanu/7-stages-of-use...   \n\n         Claps  \n0       1300.0  \n1       1800.0  \n2       1200.0  \n3        437.0  \n4       1800.0  \n...        ...  \n18995   2900.0  \n18996    284.0  \n18997  15400.0  \n18998   2400.0  \n18999   1800.0  \n\n[19000 rows x 3 columns]"
     },
     "execution_count": 12,
     "metadata": {},
     "output_type": "execute_result"
    }
   ],
   "source": [
    "exp_df = test_df.sample(frac=1).reset_index(drop=True)\n",
    "exp_df"
   ]
  },
  {
   "cell_type": "code",
   "execution_count": 14,
   "metadata": {},
   "outputs": [],
   "source": [
    "exp_df.to_csv('Export-Medium-Data-950.csv')"
   ]
  },
  {
   "cell_type": "code",
   "execution_count": null,
   "metadata": {},
   "outputs": [],
   "source": []
  }
 ],
 "metadata": {
  "kernelspec": {
   "display_name": "Python 3",
   "language": "python",
   "name": "python3"
  },
  "language_info": {
   "codemirror_mode": {
    "name": "ipython",
    "version": 3
   },
   "file_extension": ".py",
   "mimetype": "text/x-python",
   "name": "python",
   "nbconvert_exporter": "python",
   "pygments_lexer": "ipython3",
   "version": "3.7.1-final"
  }
 },
 "nbformat": 4,
 "nbformat_minor": 4
}