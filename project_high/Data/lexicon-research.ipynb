{
 "nbformat": 4,
 "nbformat_minor": 2,
 "metadata": {
  "language_info": {
   "name": "python",
   "codemirror_mode": {
    "name": "ipython",
    "version": 3
   },
   "version": "3.7.1-final"
  },
  "orig_nbformat": 2,
  "file_extension": ".py",
  "mimetype": "text/x-python",
  "name": "python",
  "npconvert_exporter": "python",
  "pygments_lexer": "ipython3",
  "version": 3,
  "kernelspec": {
   "name": "python37164bitd7d8cf782eae4b5fa02cba731b1a3874",
   "display_name": "Python 3.7.1 64-bit"
  }
 },
 "cells": [
  {
   "cell_type": "markdown",
   "metadata": {},
   "source": [
    "# Lexicon Research"
   ]
  },
  {
   "cell_type": "markdown",
   "metadata": {},
   "source": [
    "---\n",
    "## Preprocessing\n",
    "---"
   ]
  },
  {
   "cell_type": "code",
   "execution_count": 1,
   "metadata": {},
   "outputs": [
    {
     "output_type": "stream",
     "name": "stderr",
     "text": "[nltk_data] Downloading package wordnet to\n[nltk_data]     C:\\Users\\Powerhouse\\AppData\\Roaming\\nltk_data...\n[nltk_data]   Package wordnet is already up-to-date!\n"
    }
   ],
   "source": [
    "import string\n",
    "import re\n",
    "import os\n",
    "import joblib\n",
    "\n",
    "import pandas as pd \n",
    "import numpy as np \n",
    "\n",
    "import nltk\n",
    "from nltk.corpus import stopwords\n",
    "from nltk.stem import WordNetLemmatizer\n",
    "nltk.download('wordnet')\n",
    "\n",
    "from sklearn.preprocessing import MultiLabelBinarizer\n",
    "from sklearn.feature_extraction.text import TfidfVectorizer\n",
    "from sklearn.model_selection import train_test_split\n",
    "from sklearn.linear_model import LogisticRegression\n",
    "from sklearn.metrics import f1_score\n",
    "from sklearn.metrics import accuracy_score"
   ]
  },
  {
   "cell_type": "code",
   "execution_count": 13,
   "metadata": {},
   "outputs": [
    {
     "output_type": "execute_result",
     "data": {
      "text/plain": "                                               title  \\\n0  The Ultimate Travel Workout and Diet Plans by ...   \n1                Building a Responsive Image Gallery   \n2             When they’re already “forever” for you   \n3                                 Forking The iPhone   \n4                      Method swizzling in iOS swift   \n\n                                                text  \\\n0   INTRODUCING THE BUCKET LIST FAMILY Hi, we are...   \n1   In this post you would learn to build a basic...   \n2   Because love that’s “light” can last that lon...   \n3   by Jean-Louis Gassée [A delayed Monday Note d...   \n4   Today, I was integrating FCM in my iOS app. I...   \n\n                                                tags  \n0  ['Fitness', 'Travel', 'Diet', 'Exercise', 'Vac...  \n1  ['Design', 'Data', 'Growth', 'CSS', 'Web Design']  \n2  ['Love', 'Relationships', 'Dating', 'Men', 'Wo...  \n3                   ['Publishing', 'Apple', 'Apple']  \n4                          ['Swift', 'iOS', 'Apple']  ",
      "text/html": "<div>\n<style scoped>\n    .dataframe tbody tr th:only-of-type {\n        vertical-align: middle;\n    }\n\n    .dataframe tbody tr th {\n        vertical-align: top;\n    }\n\n    .dataframe thead th {\n        text-align: right;\n    }\n</style>\n<table border=\"1\" class=\"dataframe\">\n  <thead>\n    <tr style=\"text-align: right;\">\n      <th></th>\n      <th>title</th>\n      <th>text</th>\n      <th>tags</th>\n    </tr>\n  </thead>\n  <tbody>\n    <tr>\n      <td>0</td>\n      <td>The Ultimate Travel Workout and Diet Plans by ...</td>\n      <td>INTRODUCING THE BUCKET LIST FAMILY Hi, we are...</td>\n      <td>['Fitness', 'Travel', 'Diet', 'Exercise', 'Vac...</td>\n    </tr>\n    <tr>\n      <td>1</td>\n      <td>Building a Responsive Image Gallery</td>\n      <td>In this post you would learn to build a basic...</td>\n      <td>['Design', 'Data', 'Growth', 'CSS', 'Web Design']</td>\n    </tr>\n    <tr>\n      <td>2</td>\n      <td>When they’re already “forever” for you</td>\n      <td>Because love that’s “light” can last that lon...</td>\n      <td>['Love', 'Relationships', 'Dating', 'Men', 'Wo...</td>\n    </tr>\n    <tr>\n      <td>3</td>\n      <td>Forking The iPhone</td>\n      <td>by Jean-Louis Gassée [A delayed Monday Note d...</td>\n      <td>['Publishing', 'Apple', 'Apple']</td>\n    </tr>\n    <tr>\n      <td>4</td>\n      <td>Method swizzling in iOS swift</td>\n      <td>Today, I was integrating FCM in my iOS app. I...</td>\n      <td>['Swift', 'iOS', 'Apple']</td>\n    </tr>\n  </tbody>\n</table>\n</div>"
     },
     "metadata": {},
     "execution_count": 13
    }
   ],
   "source": [
    "art_df = pd.read_csv('C:/Users/Powerhouse/Documents/GitHub/Project-High/project_high/Model/article-database.csv')\n",
    "art_df.drop([art_df.columns[0], art_df.columns[2], art_df.columns[-1]], axis=1, inplace=True)\n",
    "art_df = art_df.dropna(axis=0, how='any', thresh=None, subset=None, inplace=False).reset_index(drop=True)\n",
    "art_df.columns = ['title', 'text', 'tags']\n",
    "art_df.head()"
   ]
  },
  {
   "cell_type": "code",
   "execution_count": 14,
   "metadata": {},
   "outputs": [
    {
     "output_type": "stream",
     "name": "stdout",
     "text": "<class 'list'>\n"
    },
    {
     "output_type": "execute_result",
     "data": {
      "text/plain": "                                               title  \\\n0  The Ultimate Travel Workout and Diet Plans by ...   \n1                Building a Responsive Image Gallery   \n2             When they’re already “forever” for you   \n3                                 Forking The iPhone   \n4                      Method swizzling in iOS swift   \n\n                                                text  \\\n0   INTRODUCING THE BUCKET LIST FAMILY Hi, we are...   \n1   In this post you would learn to build a basic...   \n2   Because love that’s “light” can last that lon...   \n3   by Jean-Louis Gassée [A delayed Monday Note d...   \n4   Today, I was integrating FCM in my iOS app. I...   \n\n                                          tags  \n0  [Fitness, Travel, Diet, Exercise, Vacation]  \n1      [Design, Data, Growth, CSS, Web Design]  \n2    [Love, Relationships, Dating, Men, Women]  \n3                   [Publishing, Apple, Apple]  \n4                          [Swift, iOS, Apple]  ",
      "text/html": "<div>\n<style scoped>\n    .dataframe tbody tr th:only-of-type {\n        vertical-align: middle;\n    }\n\n    .dataframe tbody tr th {\n        vertical-align: top;\n    }\n\n    .dataframe thead th {\n        text-align: right;\n    }\n</style>\n<table border=\"1\" class=\"dataframe\">\n  <thead>\n    <tr style=\"text-align: right;\">\n      <th></th>\n      <th>title</th>\n      <th>text</th>\n      <th>tags</th>\n    </tr>\n  </thead>\n  <tbody>\n    <tr>\n      <td>0</td>\n      <td>The Ultimate Travel Workout and Diet Plans by ...</td>\n      <td>INTRODUCING THE BUCKET LIST FAMILY Hi, we are...</td>\n      <td>[Fitness, Travel, Diet, Exercise, Vacation]</td>\n    </tr>\n    <tr>\n      <td>1</td>\n      <td>Building a Responsive Image Gallery</td>\n      <td>In this post you would learn to build a basic...</td>\n      <td>[Design, Data, Growth, CSS, Web Design]</td>\n    </tr>\n    <tr>\n      <td>2</td>\n      <td>When they’re already “forever” for you</td>\n      <td>Because love that’s “light” can last that lon...</td>\n      <td>[Love, Relationships, Dating, Men, Women]</td>\n    </tr>\n    <tr>\n      <td>3</td>\n      <td>Forking The iPhone</td>\n      <td>by Jean-Louis Gassée [A delayed Monday Note d...</td>\n      <td>[Publishing, Apple, Apple]</td>\n    </tr>\n    <tr>\n      <td>4</td>\n      <td>Method swizzling in iOS swift</td>\n      <td>Today, I was integrating FCM in my iOS app. I...</td>\n      <td>[Swift, iOS, Apple]</td>\n    </tr>\n  </tbody>\n</table>\n</div>"
     },
     "metadata": {},
     "execution_count": 14
    }
   ],
   "source": [
    "def func(raw_tags):\n",
    "    raw_split = raw_tags[1:-1].split(',')\n",
    "    num_tags = len(raw_split)\n",
    "    tags_clean = []\n",
    "    tags_clean.append(raw_split[0][1:-1])\n",
    "    for i in range(1, num_tags):\n",
    "       tags_clean.append(raw_split[i][2:-1])\n",
    "    return tags_clean\n",
    "\n",
    "art_df['tags'] = art_df['tags'].apply(lambda x: func(x))\n",
    "print(type(art_df.tags[0]))\n",
    "art_df.head()"
   ]
  },
  {
   "cell_type": "code",
   "execution_count": 15,
   "metadata": {},
   "outputs": [
    {
     "output_type": "execute_result",
     "data": {
      "text/plain": "                                                text     2016  2016 Election  \\\n0   INTRODUCING THE BUCKET LIST FAMILY Hi, we are...  0     0              0   \n1   In this post you would learn to build a basic...  0     0              0   \n2   Because love that’s “light” can last that lon...  0     0              0   \n3   by Jean-Louis Gassée [A delayed Monday Note d...  0     0              0   \n4   Today, I was integrating FCM in my iOS app. I...  0     0              0   \n\n   2017  3D Printing  AI  API  AWS  Abortion  ...  Yoga  YouTube  Youth  Zen  \\\n0     0            0   0    0    0         0  ...     0        0      0    0   \n1     0            0   0    0    0         0  ...     0        0      0    0   \n2     0            0   0    0    0         0  ...     0        0      0    0   \n3     0            0   0    0    0         0  ...     0        0      0    0   \n4     0            0   0    0    0         0  ...     0        0      0    0   \n\n   eBooks  iOS  iOS App Development  iPad  iPhone  日本語  \n0       0    0                    0     0       0    0  \n1       0    0                    0     0       0    0  \n2       0    0                    0     0       0    0  \n3       0    0                    0     0       0    0  \n4       0    1                    0     0       0    0  \n\n[5 rows x 914 columns]",
      "text/html": "<div>\n<style scoped>\n    .dataframe tbody tr th:only-of-type {\n        vertical-align: middle;\n    }\n\n    .dataframe tbody tr th {\n        vertical-align: top;\n    }\n\n    .dataframe thead th {\n        text-align: right;\n    }\n</style>\n<table border=\"1\" class=\"dataframe\">\n  <thead>\n    <tr style=\"text-align: right;\">\n      <th></th>\n      <th>text</th>\n      <th></th>\n      <th>2016</th>\n      <th>2016 Election</th>\n      <th>2017</th>\n      <th>3D Printing</th>\n      <th>AI</th>\n      <th>API</th>\n      <th>AWS</th>\n      <th>Abortion</th>\n      <th>...</th>\n      <th>Yoga</th>\n      <th>YouTube</th>\n      <th>Youth</th>\n      <th>Zen</th>\n      <th>eBooks</th>\n      <th>iOS</th>\n      <th>iOS App Development</th>\n      <th>iPad</th>\n      <th>iPhone</th>\n      <th>日本語</th>\n    </tr>\n  </thead>\n  <tbody>\n    <tr>\n      <td>0</td>\n      <td>INTRODUCING THE BUCKET LIST FAMILY Hi, we are...</td>\n      <td>0</td>\n      <td>0</td>\n      <td>0</td>\n      <td>0</td>\n      <td>0</td>\n      <td>0</td>\n      <td>0</td>\n      <td>0</td>\n      <td>0</td>\n      <td>...</td>\n      <td>0</td>\n      <td>0</td>\n      <td>0</td>\n      <td>0</td>\n      <td>0</td>\n      <td>0</td>\n      <td>0</td>\n      <td>0</td>\n      <td>0</td>\n      <td>0</td>\n    </tr>\n    <tr>\n      <td>1</td>\n      <td>In this post you would learn to build a basic...</td>\n      <td>0</td>\n      <td>0</td>\n      <td>0</td>\n      <td>0</td>\n      <td>0</td>\n      <td>0</td>\n      <td>0</td>\n      <td>0</td>\n      <td>0</td>\n      <td>...</td>\n      <td>0</td>\n      <td>0</td>\n      <td>0</td>\n      <td>0</td>\n      <td>0</td>\n      <td>0</td>\n      <td>0</td>\n      <td>0</td>\n      <td>0</td>\n      <td>0</td>\n    </tr>\n    <tr>\n      <td>2</td>\n      <td>Because love that’s “light” can last that lon...</td>\n      <td>0</td>\n      <td>0</td>\n      <td>0</td>\n      <td>0</td>\n      <td>0</td>\n      <td>0</td>\n      <td>0</td>\n      <td>0</td>\n      <td>0</td>\n      <td>...</td>\n      <td>0</td>\n      <td>0</td>\n      <td>0</td>\n      <td>0</td>\n      <td>0</td>\n      <td>0</td>\n      <td>0</td>\n      <td>0</td>\n      <td>0</td>\n      <td>0</td>\n    </tr>\n    <tr>\n      <td>3</td>\n      <td>by Jean-Louis Gassée [A delayed Monday Note d...</td>\n      <td>0</td>\n      <td>0</td>\n      <td>0</td>\n      <td>0</td>\n      <td>0</td>\n      <td>0</td>\n      <td>0</td>\n      <td>0</td>\n      <td>0</td>\n      <td>...</td>\n      <td>0</td>\n      <td>0</td>\n      <td>0</td>\n      <td>0</td>\n      <td>0</td>\n      <td>0</td>\n      <td>0</td>\n      <td>0</td>\n      <td>0</td>\n      <td>0</td>\n    </tr>\n    <tr>\n      <td>4</td>\n      <td>Today, I was integrating FCM in my iOS app. I...</td>\n      <td>0</td>\n      <td>0</td>\n      <td>0</td>\n      <td>0</td>\n      <td>0</td>\n      <td>0</td>\n      <td>0</td>\n      <td>0</td>\n      <td>0</td>\n      <td>...</td>\n      <td>0</td>\n      <td>0</td>\n      <td>0</td>\n      <td>0</td>\n      <td>0</td>\n      <td>1</td>\n      <td>0</td>\n      <td>0</td>\n      <td>0</td>\n      <td>0</td>\n    </tr>\n  </tbody>\n</table>\n<p>5 rows × 914 columns</p>\n</div>"
     },
     "metadata": {},
     "execution_count": 15
    }
   ],
   "source": [
    "multi_label_transform = MultiLabelBinarizer()\n",
    "multi_label_transform.fit(art_df['tags'])\n",
    "y = multi_label_transform.transform(art_df['tags'])\n",
    "\n",
    "cols = []\n",
    "cols.append('text')\n",
    "for i in list(multi_label_transform.classes_):     \n",
    "     cols.append(i)\n",
    "\n",
    "prepd_db = pd.DataFrame()\n",
    "\n",
    "prepd_db.loc[:, 'text'] = art_df.loc[:, 'text']\n",
    "for i in range(0, y.shape[1]):\n",
    "         prepd_db.loc[:, i+1] = y[:, i]\n",
    "\n",
    "prepd_db.columns=cols\n",
    "prepd_db.head()"
   ]
  },
  {
   "cell_type": "code",
   "execution_count": 16,
   "metadata": {},
   "outputs": [
    {
     "output_type": "stream",
     "name": "stdout",
     "text": "(17651, 87)\n"
    },
    {
     "output_type": "execute_result",
     "data": {
      "text/plain": "                                                text  Accessibility  \\\n0   INTRODUCING THE BUCKET LIST FAMILY Hi, we are...              0   \n1   In this post you would learn to build a basic...              0   \n2   Because love that’s “light” can last that lon...              0   \n3   by Jean-Louis Gassée [A delayed Monday Note d...              0   \n4   Today, I was integrating FCM in my iOS app. I...              0   \n\n   Addiction  Art  Artificial Intelligence  Basic Income  Beauty  Blockchain  \\\n0          0    0                        0             0       0           0   \n1          0    0                        0             0       0           0   \n2          0    0                        0             0       0           0   \n3          0    0                        0             0       0           0   \n4          0    0                        0             0       0           0   \n\n   Books  Business  ...  TV  Technology  Transportation  Travel  UX  \\\n0      0         0  ...   0           0               0       1   0   \n1      0         0  ...   0           0               0       0   0   \n2      0         0  ...   0           0               0       0   0   \n3      0         0  ...   0           0               0       0   0   \n4      0         0  ...   0           0               0       0   0   \n\n   Venture Capital  Women  Work  World  Writing  \n0                0      0     0      0        0  \n1                0      0     0      0        0  \n2                0      1     0      0        0  \n3                0      0     0      0        0  \n4                0      0     0      0        0  \n\n[5 rows x 87 columns]",
      "text/html": "<div>\n<style scoped>\n    .dataframe tbody tr th:only-of-type {\n        vertical-align: middle;\n    }\n\n    .dataframe tbody tr th {\n        vertical-align: top;\n    }\n\n    .dataframe thead th {\n        text-align: right;\n    }\n</style>\n<table border=\"1\" class=\"dataframe\">\n  <thead>\n    <tr style=\"text-align: right;\">\n      <th></th>\n      <th>text</th>\n      <th>Accessibility</th>\n      <th>Addiction</th>\n      <th>Art</th>\n      <th>Artificial Intelligence</th>\n      <th>Basic Income</th>\n      <th>Beauty</th>\n      <th>Blockchain</th>\n      <th>Books</th>\n      <th>Business</th>\n      <th>...</th>\n      <th>TV</th>\n      <th>Technology</th>\n      <th>Transportation</th>\n      <th>Travel</th>\n      <th>UX</th>\n      <th>Venture Capital</th>\n      <th>Women</th>\n      <th>Work</th>\n      <th>World</th>\n      <th>Writing</th>\n    </tr>\n  </thead>\n  <tbody>\n    <tr>\n      <td>0</td>\n      <td>INTRODUCING THE BUCKET LIST FAMILY Hi, we are...</td>\n      <td>0</td>\n      <td>0</td>\n      <td>0</td>\n      <td>0</td>\n      <td>0</td>\n      <td>0</td>\n      <td>0</td>\n      <td>0</td>\n      <td>0</td>\n      <td>...</td>\n      <td>0</td>\n      <td>0</td>\n      <td>0</td>\n      <td>1</td>\n      <td>0</td>\n      <td>0</td>\n      <td>0</td>\n      <td>0</td>\n      <td>0</td>\n      <td>0</td>\n    </tr>\n    <tr>\n      <td>1</td>\n      <td>In this post you would learn to build a basic...</td>\n      <td>0</td>\n      <td>0</td>\n      <td>0</td>\n      <td>0</td>\n      <td>0</td>\n      <td>0</td>\n      <td>0</td>\n      <td>0</td>\n      <td>0</td>\n      <td>...</td>\n      <td>0</td>\n      <td>0</td>\n      <td>0</td>\n      <td>0</td>\n      <td>0</td>\n      <td>0</td>\n      <td>0</td>\n      <td>0</td>\n      <td>0</td>\n      <td>0</td>\n    </tr>\n    <tr>\n      <td>2</td>\n      <td>Because love that’s “light” can last that lon...</td>\n      <td>0</td>\n      <td>0</td>\n      <td>0</td>\n      <td>0</td>\n      <td>0</td>\n      <td>0</td>\n      <td>0</td>\n      <td>0</td>\n      <td>0</td>\n      <td>...</td>\n      <td>0</td>\n      <td>0</td>\n      <td>0</td>\n      <td>0</td>\n      <td>0</td>\n      <td>0</td>\n      <td>1</td>\n      <td>0</td>\n      <td>0</td>\n      <td>0</td>\n    </tr>\n    <tr>\n      <td>3</td>\n      <td>by Jean-Louis Gassée [A delayed Monday Note d...</td>\n      <td>0</td>\n      <td>0</td>\n      <td>0</td>\n      <td>0</td>\n      <td>0</td>\n      <td>0</td>\n      <td>0</td>\n      <td>0</td>\n      <td>0</td>\n      <td>...</td>\n      <td>0</td>\n      <td>0</td>\n      <td>0</td>\n      <td>0</td>\n      <td>0</td>\n      <td>0</td>\n      <td>0</td>\n      <td>0</td>\n      <td>0</td>\n      <td>0</td>\n    </tr>\n    <tr>\n      <td>4</td>\n      <td>Today, I was integrating FCM in my iOS app. I...</td>\n      <td>0</td>\n      <td>0</td>\n      <td>0</td>\n      <td>0</td>\n      <td>0</td>\n      <td>0</td>\n      <td>0</td>\n      <td>0</td>\n      <td>0</td>\n      <td>...</td>\n      <td>0</td>\n      <td>0</td>\n      <td>0</td>\n      <td>0</td>\n      <td>0</td>\n      <td>0</td>\n      <td>0</td>\n      <td>0</td>\n      <td>0</td>\n      <td>0</td>\n    </tr>\n  </tbody>\n</table>\n<p>5 rows × 87 columns</p>\n</div>"
     },
     "metadata": {},
     "execution_count": 16
    }
   ],
   "source": [
    "df_topic_list = pd.read_csv('C:/Users/Powerhouse/Documents/GitHub/Project-High/project_high/Data/medium-topics/medium_topics.csv')\n",
    "df_topic_list.columns = ['tag_name', 'link']\n",
    "\n",
    "core_topics = []\n",
    "contem_topics = []\n",
    "for i in range(0, len(multi_label_transform.classes_)):\n",
    "    if multi_label_transform.classes_[i] in list(df_topic_list.tag_name):\n",
    "        core_topics.append(multi_label_transform.classes_[i])\n",
    "    else:\n",
    "        contem_topics.append(multi_label_transform.classes_[i])\n",
    "\n",
    "prepd_db.drop(contem_topics, axis=1, inplace=True)\n",
    "print(prepd_db.shape)\n",
    "prepd_db.head()"
   ]
  },
  {
   "cell_type": "code",
   "execution_count": 17,
   "metadata": {
    "tags": [
     "outputPrepend"
    ]
   },
   "outputs": [],
   "source": [
    "sum_tags = []\n",
    "for i in range(0, prepd_db.shape[0]):\n",
    "    sum_this_row = 0\n",
    "    for c in prepd_db.columns[1:]:\n",
    "        sum_this_row = sum_this_row + int(prepd_db[c][i])\n",
    "    sum_tags.append(sum_this_row) \n",
    "\n",
    "chosen_ft = ['text']\n",
    "for i in range(1, prepd_db.shape[1]):\n",
    "    colum = prepd_db[prepd_db.columns[i]]\n",
    "    if(colum.value_counts()[1]>150):\n",
    "        chosen_ft.append(prepd_db.columns[i])"
   ]
  },
  {
   "cell_type": "code",
   "execution_count": 18,
   "metadata": {
    "tags": [
     "outputPrepend"
    ]
   },
   "outputs": [
    {
     "output_type": "execute_result",
     "data": {
      "text/plain": "(13102, 46)"
     },
     "metadata": {},
     "execution_count": 18
    }
   ],
   "source": [
    "new_db = prepd_db\n",
    "new_db['sum_tags'] = sum_tags\n",
    "new_db = new_db[new_db['sum_tags'] > 0]\n",
    "new_db = new_db[new_db['sum_tags'] < 6]\n",
    "new_db = new_db[chosen_ft]\n",
    "prepd_db = new_db\n",
    "prepd_db.shape"
   ]
  },
  {
   "cell_type": "code",
   "execution_count": 19,
   "metadata": {},
   "outputs": [
    {
     "output_type": "execute_result",
     "data": {
      "text/plain": "                                                text  Art  \\\n0  introducing bucket list family hi bucket list ...    0   \n1  post would learn build basic image gallery fle...    0   \n2  love light last long past partners frankly pro...    0   \n5  article quick history gaming war gaming strate...    0   \n6  therapist hear common complaints teens parents...    0   \n\n   Artificial Intelligence  Blockchain  Books  Business  Creativity  \\\n0                        0           0      0         0           0   \n1                        0           0      0         0           0   \n2                        0           0      0         0           0   \n5                        0           0      0         0           0   \n6                        0           0      0         0           0   \n\n   Cryptocurrency  Culture  Data Science  ...  Social Media  \\\n0               0        0             0  ...             0   \n1               0        0             0  ...             0   \n2               0        0             0  ...             0   \n5               0        0             0  ...             0   \n6               0        0             0  ...             0   \n\n   Software Engineering  Sports  Technology  Travel  UX  Venture Capital  \\\n0                     0       0           0       1   0                0   \n1                     0       0           0       0   0                0   \n2                     0       0           0       0   0                0   \n5                     0       0           1       0   0                0   \n6                     0       0           0       0   0                0   \n\n   Women  Work  Writing  \n0      0     0        0  \n1      0     0        0  \n2      1     0        0  \n5      0     0        0  \n6      0     0        0  \n\n[5 rows x 46 columns]",
      "text/html": "<div>\n<style scoped>\n    .dataframe tbody tr th:only-of-type {\n        vertical-align: middle;\n    }\n\n    .dataframe tbody tr th {\n        vertical-align: top;\n    }\n\n    .dataframe thead th {\n        text-align: right;\n    }\n</style>\n<table border=\"1\" class=\"dataframe\">\n  <thead>\n    <tr style=\"text-align: right;\">\n      <th></th>\n      <th>text</th>\n      <th>Art</th>\n      <th>Artificial Intelligence</th>\n      <th>Blockchain</th>\n      <th>Books</th>\n      <th>Business</th>\n      <th>Creativity</th>\n      <th>Cryptocurrency</th>\n      <th>Culture</th>\n      <th>Data Science</th>\n      <th>...</th>\n      <th>Social Media</th>\n      <th>Software Engineering</th>\n      <th>Sports</th>\n      <th>Technology</th>\n      <th>Travel</th>\n      <th>UX</th>\n      <th>Venture Capital</th>\n      <th>Women</th>\n      <th>Work</th>\n      <th>Writing</th>\n    </tr>\n  </thead>\n  <tbody>\n    <tr>\n      <td>0</td>\n      <td>introducing bucket list family hi bucket list ...</td>\n      <td>0</td>\n      <td>0</td>\n      <td>0</td>\n      <td>0</td>\n      <td>0</td>\n      <td>0</td>\n      <td>0</td>\n      <td>0</td>\n      <td>0</td>\n      <td>...</td>\n      <td>0</td>\n      <td>0</td>\n      <td>0</td>\n      <td>0</td>\n      <td>1</td>\n      <td>0</td>\n      <td>0</td>\n      <td>0</td>\n      <td>0</td>\n      <td>0</td>\n    </tr>\n    <tr>\n      <td>1</td>\n      <td>post would learn build basic image gallery fle...</td>\n      <td>0</td>\n      <td>0</td>\n      <td>0</td>\n      <td>0</td>\n      <td>0</td>\n      <td>0</td>\n      <td>0</td>\n      <td>0</td>\n      <td>0</td>\n      <td>...</td>\n      <td>0</td>\n      <td>0</td>\n      <td>0</td>\n      <td>0</td>\n      <td>0</td>\n      <td>0</td>\n      <td>0</td>\n      <td>0</td>\n      <td>0</td>\n      <td>0</td>\n    </tr>\n    <tr>\n      <td>2</td>\n      <td>love light last long past partners frankly pro...</td>\n      <td>0</td>\n      <td>0</td>\n      <td>0</td>\n      <td>0</td>\n      <td>0</td>\n      <td>0</td>\n      <td>0</td>\n      <td>0</td>\n      <td>0</td>\n      <td>...</td>\n      <td>0</td>\n      <td>0</td>\n      <td>0</td>\n      <td>0</td>\n      <td>0</td>\n      <td>0</td>\n      <td>0</td>\n      <td>1</td>\n      <td>0</td>\n      <td>0</td>\n    </tr>\n    <tr>\n      <td>5</td>\n      <td>article quick history gaming war gaming strate...</td>\n      <td>0</td>\n      <td>0</td>\n      <td>0</td>\n      <td>0</td>\n      <td>0</td>\n      <td>0</td>\n      <td>0</td>\n      <td>0</td>\n      <td>0</td>\n      <td>...</td>\n      <td>0</td>\n      <td>0</td>\n      <td>0</td>\n      <td>1</td>\n      <td>0</td>\n      <td>0</td>\n      <td>0</td>\n      <td>0</td>\n      <td>0</td>\n      <td>0</td>\n    </tr>\n    <tr>\n      <td>6</td>\n      <td>therapist hear common complaints teens parents...</td>\n      <td>0</td>\n      <td>0</td>\n      <td>0</td>\n      <td>0</td>\n      <td>0</td>\n      <td>0</td>\n      <td>0</td>\n      <td>0</td>\n      <td>0</td>\n      <td>...</td>\n      <td>0</td>\n      <td>0</td>\n      <td>0</td>\n      <td>0</td>\n      <td>0</td>\n      <td>0</td>\n      <td>0</td>\n      <td>0</td>\n      <td>0</td>\n      <td>0</td>\n    </tr>\n  </tbody>\n</table>\n<p>5 rows × 46 columns</p>\n</div>"
     },
     "metadata": {},
     "execution_count": 19
    }
   ],
   "source": [
    " \n",
    "def remove_stopwords(text):\n",
    "    stop_words = set(stopwords.words('english'))\n",
    "    no_stopword_text = [w for w in text.split() if not w in stop_words]\n",
    "    return ' '.join(no_stopword_text)\n",
    "\n",
    "def clean_text(text):\n",
    "    text = re.sub(\"\\'\", \"\", text) \n",
    "    text = re.sub(\"[^a-zA-Z]\",\" \",text) \n",
    "    text = ' '.join(text.split()) \n",
    "    text = text.lower()\n",
    "    _t = \"\"\n",
    "    for t in text.split():\n",
    "        _t += lemmatizer.lemmatize(t, pos='a') + \" \"\n",
    "    text = _t\n",
    "    text = remove_stopwords(text)\n",
    "\n",
    "    return text\n",
    "\n",
    "new_db = prepd_db\n",
    "new_db['text'] = new_db['text'].apply(lambda x: clean_text(x))\n",
    "prepd_db=new_db\n",
    "prepd_db.head()"
   ]
  },
  {
   "cell_type": "code",
   "execution_count": 20,
   "metadata": {},
   "outputs": [],
   "source": [
    "prepd_db.to_csv('model-data.csv')"
   ]
  },
  {
   "cell_type": "markdown",
   "metadata": {},
   "source": [
    "---\n",
    "## Text -> Features -> Models\n",
    "---"
   ]
  },
  {
   "cell_type": "code",
   "execution_count": 21,
   "metadata": {},
   "outputs": [],
   "source": [
    "#### FOR THE REPORT\n",
    "# test_ft = prepd_db.columns[1]\n",
    "# this_db = pd.DataFrame()\n",
    "\n",
    "# to_1 = prepd_db[prepd_db[test_ft] == 1][['text', test_ft]]\n",
    "# to_0 = prepd_db[prepd_db[test_ft] != 1][['text', test_ft]]\n",
    "# _frac = (to_0.shape[0]/to_1.shape[0])\n",
    "\n",
    "# this_db[['text', test_ft]] = to_1\n",
    "# this_db = this_db.append(to_0.sample(frac=1/_frac)).sample(frac=1)\n",
    "# this_db.reset_index().drop(['index'], axis=1)\n",
    "\n",
    "# tfidf_vectorizer = TfidfVectorizer(max_df=0.6, max_features=600)\n",
    "# train_tfidf = tfidf_vectorizer.fit_transform(this_db['text'])\n",
    "\n",
    "# xTrain, xTest, yTrain, yTest = train_test_split(train_tfidf, this_db[test_ft], test_size = 0.2, random_state = 0)\n",
    "\n",
    "# lr = LogisticRegression(tol=0.0)\n",
    "# lr.fit(xTrain, yTrain)\n",
    "# pred_test = lr.predict(xTest)\n",
    "# accuracy_score(yTest, pred_test)"
   ]
  },
  {
   "cell_type": "code",
   "execution_count": 22,
   "metadata": {},
   "outputs": [],
   "source": [
    "tfidf_vectorizer = TfidfVectorizer(max_df=0.8, max_features=1000)\n",
    "train_tfidf = tfidf_vectorizer.fit_transform(prepd_db['text'])\n",
    "\n",
    "for x in range(1, len(prepd_db.columns)):\n",
    "\n",
    "    lr = LogisticRegression(tol=0.75)\n",
    "    lr.fit(train_tfidf, prepd_db.iloc[:, x])\n",
    "\n",
    "    joblib.dump(lr, 'model_pickle_files/' + str(prepd_db.columns[x]) + '.pkl')\n"
   ]
  }
 ]
}